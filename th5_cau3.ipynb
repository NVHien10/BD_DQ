{
  "nbformat": 4,
  "nbformat_minor": 0,
  "metadata": {
    "colab": {
      "provenance": [],
      "authorship_tag": "ABX9TyPeWEEMAYY+edU5E7h7Ied/",
      "include_colab_link": true
    },
    "kernelspec": {
      "name": "python3",
      "display_name": "Python 3"
    },
    "language_info": {
      "name": "python"
    }
  },
  "cells": [
    {
      "cell_type": "markdown",
      "metadata": {
        "id": "view-in-github",
        "colab_type": "text"
      },
      "source": [
        "<a href=\"https://colab.research.google.com/github/NVHien10/BD_DQ/blob/main/th5_cau3.ipynb\" target=\"_parent\"><img src=\"https://colab.research.google.com/assets/colab-badge.svg\" alt=\"Open In Colab\"/></a>"
      ]
    },
    {
      "cell_type": "code",
      "execution_count": null,
      "metadata": {
        "colab": {
          "base_uri": "https://localhost:8080/"
        },
        "id": "WI8hFAVYn49n",
        "outputId": "f97136e2-7025-4124-d443-49c4a5bc7ac5"
      },
      "outputs": [
        {
          "output_type": "stream",
          "name": "stdout",
          "text": [
            "Mounted at /content/drive\n"
          ]
        }
      ],
      "source": [
        "from google.colab import drive\n",
        "drive.mount('/content/drive')"
      ]
    },
    {
      "cell_type": "code",
      "source": [
        "import pandas as pd\n",
        "from sklearn.model_selection import train_test_split\n",
        "from sklearn.neighbors import KNeighborsClassifier\n",
        "from sklearn.naive_bayes import GaussianNB\n",
        "from sklearn.metrics import confusion_matrix, classification_report\n",
        "\n",
        "\n",
        "data = pd.read_csv(\"/content/drive/MyDrive/Khai Pha Du Lieu/TH5/Collected_Hr_data_performances.csv\")\n",
        "data"
      ],
      "metadata": {
        "id": "PgcaRATcn_4t"
      },
      "execution_count": null,
      "outputs": []
    },
    {
      "cell_type": "markdown",
      "source": [
        "knn"
      ],
      "metadata": {
        "id": "6BMCEVT3vrA1"
      }
    },
    {
      "cell_type": "code",
      "source": [
        "features = data[[\"Age\", \"Gender\", \"MaritalStatus\", \"EducationLevel\", \"EducationBackground\",\n",
        "                \"JobRole\", \"EnvironmentSatisfaction\", \"RelationshipSatisfaction\",\n",
        "                \"WorkLifeBalance\", \"TotalWorkExperienceInYears\", \"ExperienceYearsInCurrentRole\"]]\n",
        "labels = data[\"PerformanceResult\"]\n",
        "features = pd.get_dummies(features)\n",
        "features.columns = features.columns.str.replace('[^a-zA-Z0-9]', ' ', regex=True)\n",
        "train_features, test_features, train_labels, test_labels = train_test_split(features, labels, test_size=0.3, random_state=42)"
      ],
      "metadata": {
        "id": "bmNEHIpLq1f9"
      },
      "execution_count": null,
      "outputs": []
    },
    {
      "cell_type": "code",
      "source": [
        "\n",
        "\n",
        "\n",
        "knn_model = KNeighborsClassifier(n_neighbors=5)\n",
        "knn_model.fit(train_features, train_labels)\n",
        "y_pred=knn_model.predict(test_features)\n",
        "print(\"KNN MODEL EVALUATION:\")\n",
        "print(confusion_matrix(test_labels, y_pred))\n",
        "print(classification_report(test_labels, y_pred))\n",
        "\n"
      ],
      "metadata": {
        "colab": {
          "base_uri": "https://localhost:8080/"
        },
        "id": "A6Ylb1IgrlHq",
        "outputId": "4284287a-ca1a-4f5e-f2fb-f205aac1d753"
      },
      "execution_count": null,
      "outputs": [
        {
          "output_type": "stream",
          "name": "stdout",
          "text": [
            "KNN MODEL EVALUATION:\n",
            "[[  0   0   2   0   0]\n",
            " [  0   1  38   1   0]\n",
            " [  0   5 254   9   0]\n",
            " [  1   0  40   6   0]\n",
            " [  0   1   2   0   0]]\n",
            "                       precision    recall  f1-score   support\n",
            "\n",
            "Does not Meet Minimum       0.00      0.00      0.00         2\n",
            "   Exceed Expectation       0.14      0.03      0.04        40\n",
            "     Meet Expectation       0.76      0.95      0.84       268\n",
            "    Needs Improvement       0.38      0.13      0.19        47\n",
            "          Outstanding       0.00      0.00      0.00         3\n",
            "\n",
            "             accuracy                           0.73       360\n",
            "            macro avg       0.25      0.22      0.21       360\n",
            "         weighted avg       0.63      0.72      0.66       360\n",
            "\n"
          ]
        },
        {
          "output_type": "stream",
          "name": "stderr",
          "text": [
            "/usr/local/lib/python3.10/dist-packages/sklearn/metrics/_classification.py:1344: UndefinedMetricWarning: Precision and F-score are ill-defined and being set to 0.0 in labels with no predicted samples. Use `zero_division` parameter to control this behavior.\n",
            "  _warn_prf(average, modifier, msg_start, len(result))\n",
            "/usr/local/lib/python3.10/dist-packages/sklearn/metrics/_classification.py:1344: UndefinedMetricWarning: Precision and F-score are ill-defined and being set to 0.0 in labels with no predicted samples. Use `zero_division` parameter to control this behavior.\n",
            "  _warn_prf(average, modifier, msg_start, len(result))\n",
            "/usr/local/lib/python3.10/dist-packages/sklearn/metrics/_classification.py:1344: UndefinedMetricWarning: Precision and F-score are ill-defined and being set to 0.0 in labels with no predicted samples. Use `zero_division` parameter to control this behavior.\n",
            "  _warn_prf(average, modifier, msg_start, len(result))\n"
          ]
        }
      ]
    },
    {
      "cell_type": "markdown",
      "source": [
        "Naïve-Bayes"
      ],
      "metadata": {
        "id": "PBYMhviSvlWa"
      }
    },
    {
      "cell_type": "code",
      "source": [
        "nb_model = GaussianNB()\n",
        "nb_model.fit(train_features, train_labels)\n",
        "y_pred_nb = nb_model.predict(test_features)\n",
        "print(\"Naive Bayes Model Evalution on Test Data:\")\n",
        "print(confusion_matrix(test_labels, y_pred_nb))\n",
        "print(classification_report(test_labels, y_pred_nb))\n"
      ],
      "metadata": {
        "colab": {
          "base_uri": "https://localhost:8080/"
        },
        "id": "UKSChO3Ar1Tn",
        "outputId": "0bc563fe-eae9-4d0e-91bb-5bf29d5c8a4b"
      },
      "execution_count": null,
      "outputs": [
        {
          "output_type": "stream",
          "name": "stdout",
          "text": [
            "Naive Bayes Model Evalution on Test Data:\n",
            "[[  1   0   0   0   1]\n",
            " [ 12   7   2   5  14]\n",
            " [ 74  55  15  20 104]\n",
            " [ 16  10   0  11  10]\n",
            " [  2   1   0   0   0]]\n",
            "                       precision    recall  f1-score   support\n",
            "\n",
            "Does not Meet Minimum       0.01      0.50      0.02         2\n",
            "   Exceed Expectation       0.10      0.17      0.12        40\n",
            "     Meet Expectation       0.88      0.06      0.11       268\n",
            "    Needs Improvement       0.31      0.23      0.27        47\n",
            "          Outstanding       0.00      0.00      0.00         3\n",
            "\n",
            "             accuracy                           0.09       360\n",
            "            macro avg       0.26      0.19      0.10       360\n",
            "         weighted avg       0.71      0.09      0.13       360\n",
            "\n"
          ]
        }
      ]
    }
  ]
}