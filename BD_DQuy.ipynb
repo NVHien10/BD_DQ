{
 "cells": [
  {
   "cell_type": "code",
   "execution_count": null,
   "metadata": {},
   "outputs": [],
   "source": [
    "# Đọc dữ liệu từ tập tin CSV\n",
    "import pandas as pd\n",
    "# Đường dẫn đến tập tin CSV\n",
    "file_path = 'C:\\\\Users\\\\ACER\\\\Desktop\\\\BD_DQ\\\\data_dotquy.csv'#Hien\n",
    "#file_path = 'C:\\\\Users\\\\Admin\\\\Desktop\\\\BD_DQ\\\\data_dotquy.csv'\n",
    "# Đọc dữ liệu từ CSV vào DataFrame\n",
    "df = pd.read_csv(file_path)\n",
    "# Hiển thị DataFrame trong VS Code\n",
    "print(df)"
   ]
  },
  {
   "cell_type": "markdown",
   "metadata": {},
   "source": [
    "LÀM SẠCH và CHUẨN HÓA DL\n",
    "- 1 giới tính: loại other\n",
    "- 2 tuổi: Loại số thực ( vd: 0.1 , 1.56) rồi dùng kỹ thuật Age Grouping\n",
    "- 3 Đã kết hôn: chuyển về 0 và một\n",
    "- 4 kiểu làm việc(work_type)\n",
    "    + kỹ thuật Hashing Encoding\n",
    "    + kỹ thuật One-Hot Encoding\n",
    "- 5 vùng sống: chuyển về 0 và một\n",
    "- 6 BMI  \n",
    "    + Loại bỏ các hàng hoặc cột có N/A rồi dùng kỹ thuật Binary Encoding\n",
    "    + dùng kỹ thuật Simple Imputation rồi dùng kỹ thuật tiếp Min-Max Scaling\n",
    "- 7 smoking_status\n",
    "  + Loại bỏ các hàng hoặc cột có Unknown rồi dùng kỹ thuật tiếp Min-Max Scaling\n",
    "  + kỹ thuật Frequency Encoding\n",
    "- 8 avg_glucose_level (mg/dL)\n",
    "    DÙNG KỸ THUẬT: Min-Max Scaling\n",
    "  ******ĐIỀU KIỆN LÀ******\n",
    "    Người bình thường:\n",
    "     < 140\n",
    "    Người Bị tiểu đường:\n",
    "      >=140"
   ]
  },
  {
   "cell_type": "code",
   "execution_count": null,
   "metadata": {},
   "outputs": [],
   "source": [
    "#Hien\n",
    "#Kiem tra trung lap\n",
    "duplicated_rows = df[df.duplicated(subset='id')]\n",
    "print(\"So luong du lieu trung lap la:\" , len(duplicated_rows))\n",
    "\n",
    "df = df.dropna()\n",
    "df = df.applymap(lambda x: x.replace(\"\\n\",\" \") if isinstance(x, str) else x )"
   ]
  },
  {
   "cell_type": "code",
   "execution_count": null,
   "metadata": {},
   "outputs": [],
   "source": [
    "#Hien\n",
    "# Xóa cột mã định danh\n",
    "df  = df.drop(columns=['id'])\n",
    "df.info()"
   ]
  },
  {
   "cell_type": "code",
   "execution_count": null,
   "metadata": {},
   "outputs": [],
   "source": [
    "#Chau\n",
    "#Loại bỏ giới tính mang giá trị Other\n",
    "mask = df['gender'].isin(['Male', 'Female'])\n",
    "df = df[mask]\n",
    "print(df)"
   ]
  },
  {
   "cell_type": "code",
   "execution_count": null,
   "metadata": {},
   "outputs": [],
   "source": [
    "#Chau\n",
    "# gender: female 1 male 0\n",
    "df.loc[:, 'gender'] = df['gender'].replace({'Female': 1, 'Male': 0})\n",
    "print(df)"
   ]
  },
  {
   "cell_type": "code",
   "execution_count": null,
   "metadata": {},
   "outputs": [],
   "source": [
    "#Chau\n",
    "# Residence_type: urban 1 rural 0\n",
    "df.loc[:, 'Residence_type'] = df['Residence_type'].replace({'Urban': 1, 'Rural': 0})\n",
    "\n",
    "#Chi\n",
    "# Kiểm tra xem tuổi có phải là số nguyên hay không\n",
    "df['Is_Whole_Number'] = df['age'].apply(lambda x: x.is_integer())\n",
    "\n",
    "# Lọc các hàng mà tuổi không phải là số thực (chỉ giữ lại số nguyên)\n",
    "df = df[df['Is_Whole_Number']]\n",
    "\n",
    "# Xóa cột tạm thời 'Is_Whole_Number'\n",
    "df = df.drop(columns=['Is_Whole_Number'])\n",
    "\n",
    "df"
   ]
  },
  {
   "cell_type": "code",
   "execution_count": null,
   "metadata": {},
   "outputs": [],
   "source": [
    "#Chi\n",
    "# Định nghĩa các khoảng tuổi và các nhãn cho các nhóm tuổi\n",
    "bins = [0, 18, 35, 60, 100]\n",
    "labels = ['0', '1', '2', '3']\n",
    "\n",
    "# Chia cột \"Age\" thành các nhóm tuổi\n",
    "df['Age Group'] = pd.cut(df['age'], bins=bins, labels=labels, right=False)\n",
    "\n",
    "df"
   ]
  },
  {
   "cell_type": "code",
   "execution_count": null,
   "metadata": {},
   "outputs": [],
   "source": [
    "#Hien\n",
    "# khong tieu duong\n",
    "def glucose_normal(value):\n",
    "    if value < 140:\n",
    "        return value\n",
    "    else:\n",
    "        return 0\n",
    "normal_data = [glucose_normal(x) for x in df['avg_glucose_level']]\n",
    "#print(normal_data)\n",
    "\n",
    "# Calculate min and max values\n",
    "X_min = min(normal_data)\n",
    "X_max = max(normal_data)\n",
    "\n",
    "# Apply Min-Max Scaling\n",
    "scaled_data = [(x - X_min) / (X_max - X_min) for x in normal_data]\n",
    "scaled_data\n",
    "df['glucose_normal'] = scaled_data\n"
   ]
  },
  {
   "cell_type": "code",
   "execution_count": null,
   "metadata": {},
   "outputs": [],
   "source": [
    "#Hien\n",
    "# tieu duong\n",
    "def glucose_classify(value):\n",
    "    if value >= 140:\n",
    "        return value\n",
    "    else:\n",
    "        return 0\n",
    "\n",
    "classified_data = [glucose_classify(x) for x in df['avg_glucose_level']]\n",
    "#classified_data\n",
    "\n",
    "# Calculate min and max values\n",
    "X_min = min(classified_data)\n",
    "X_max = max(classified_data)\n",
    "\n",
    "# Apply Min-Max Scaling\n",
    "scaled_data = [(x - X_min) / (X_max - X_min) for x in classified_data]\n",
    "scaled_data\n",
    "df['glucose_classify'] = scaled_data\n"
   ]
  },
  {
   "cell_type": "code",
   "execution_count": null,
   "metadata": {},
   "outputs": [],
   "source": [
    "#Hien\n",
    "# chuẩn hóa bằng Min-Max Scaling\n",
    "glucose_values = df['avg_glucose_level']\n",
    "\n",
    "# Calculate min and max values\n",
    "X_min = min(df['avg_glucose_level'])\n",
    "X_max = max(df['avg_glucose_level'])\n",
    "\n",
    "# Apply Min-Max Scaling\n",
    "scaled_data = [(x - X_min) / (X_max - X_min) for x in df['avg_glucose_level']]\n",
    "\n",
    "# Print the original and scaled data\n",
    "#print(scaled_data)\n",
    "#df['glucose_normalized_data'] = scaled_data\n",
    "\n",
    "df['avg_glucose_level'] = scaled_data\n",
    "df\n"
   ]
  },
  {
   "cell_type": "code",
   "execution_count": null,
   "metadata": {},
   "outputs": [],
   "source": [
    "\n",
    "# LOAI GIA TRI TUOI LÀ SO THỤC KHONG NGUYEN\n",
    "df = df[~df['age'].apply(lambda x: isinstance(x, float) and not x.is_integer())]\n",
    "df"
   ]
  },
  {
   "cell_type": "code",
   "execution_count": null,
   "metadata": {},
   "outputs": [],
   "source": [
    "#Chau\n",
    "#chuẩn hóa dữ liệu field work_type theo kỹ thuật label encoding\n",
    "from sklearn.preprocessing import LabelEncoder\n",
    "le=LabelEncoder()\n",
    "df.loc[:, 'work_type'] = le.fit_transform(df['work_type'])\n",
    "print(df)\n",
    "\n",
    "#Chi\n",
    "# Chuyển đổi các nhóm tuổi thành các giá trị số\n",
    "df['Age Group'] = df['Age Group'].cat.codes.astype(float)\n",
    "df"
   ]
  },
  {
   "cell_type": "code",
   "execution_count": null,
   "metadata": {},
   "outputs": [],
   "source": [
    "#Giang \n",
    "\n",
    "df['Residence_type']=df['Residence_type'].replace({'Urban':1,'Rural':0})\n",
    "mask = df['gender'] != 'Other'\n",
    "df_filtered = df[mask]\n",
    "print(df_filtered) "
   ]
  },
  {
   "cell_type": "code",
   "execution_count": null,
   "metadata": {},
   "outputs": [],
   "source": [
    "#Giang\n",
    "from sklearn.preprocessing import LabelEncoder\n",
    "label_encoder = LabelEncoder()\n",
    "df['work_type'] = label_encoder.fit_transform(df['work_type'])\n",
    "\n",
    "# sử dụng chuẩn hóa bằng Min-Max Scaling chuan hoa df['work_type'] dang (0 1 2 3 4)\n",
    "# Calculate min and max values\n",
    "X_min = min(df['work_type'])\n",
    "X_max = max(df['work_type'])\n",
    "\n",
    "# Apply Min-Max Scaling\n",
    "scaled_data = [(x - X_min) / (X_max - X_min) for x in df['work_type']]\n",
    "scaled_data\n",
    "# Tạo ra trường dữ liệu mới work_type_2\n",
    "df['work_type_2'] =scaled_data\n",
    "df"
   ]
  },
  {
   "cell_type": "code",
   "execution_count": null,
   "metadata": {},
   "outputs": [],
   "source": [
    "#Hoang\n",
    "# Dữ liệu ban đầu\n",
    "data = df['bmi']\n",
    "\n",
    "# Min-Max Scaling\n",
    "data_min = data.min()\n",
    "data_max = data.max()\n",
    "\n",
    "scaled_data = (data - data_min) / (data_max - data_min)\n",
    "\n",
    "# Hiển thị dữ liệu đã chuẩn hóa\n",
    "print(scaled_data)"
   ]
  },
  {
   "cell_type": "code",
   "execution_count": null,
   "metadata": {},
   "outputs": [],
   "source": [
    "#Hoang\n",
    "df['bmi']=scaled_data\n",
    "df"
   ]
  },
  {
   "cell_type": "code",
   "execution_count": null,
   "metadata": {},
   "outputs": [],
   "source": [
    "#Hoang\n",
    "# Dữ liệu ban đầu\n",
    "data = df['bmi']\n",
    "\n",
    "# Chuyển đổi dữ liệu thành DataFrame\n",
    "dff = pd.DataFrame(data, columns=['bmi'])\n",
    "dff"
   ]
  },
  {
   "cell_type": "code",
   "execution_count": null,
   "metadata": {},
   "outputs": [],
   "source": [
    "#Hoang\n",
    "import numpy as np\n",
    "conditions = [\n",
    "    (dff['bmi'] < 18.5),\n",
    "    (dff['bmi'] >= 18.5) & (dff['bmi'] <= 25),\n",
    "    (dff['bmi'] > 25)\n",
    "]\n",
    "\n",
    "# Các giá trị tương ứng cho mỗi điều kiện\n",
    "df['underweight'] = np.where(dff['bmi'] < 18.5, 1, 0)\n",
    "df['normal'] = np.where((dff['bmi'] >= 18.5) & (dff['bmi'] <= 25), 1, 0)\n",
    "df['overweight'] = np.where(dff['bmi'] > 25, 1, 0)\n",
    "\n",
    "# Hiển thị DataFrame với dữ liệu đã chuẩn hóa\n",
    "df"
   ]
  },
  {
   "cell_type": "code",
   "execution_count": null,
   "metadata": {},
   "outputs": [],
   "source": [
    "#Binh\n",
    "df.dropna(how='all', inplace=True)\n",
    "df.head()"
   ]
  },
  {
   "cell_type": "code",
   "execution_count": null,
   "metadata": {},
   "outputs": [],
   "source": [
    "#Binh\n",
    "df = df[df['smoking_status'] != 'Unknown']\n",
    "df"
   ]
  },
  {
   "cell_type": "code",
   "execution_count": null,
   "metadata": {},
   "outputs": [],
   "source": [
    "#Binh\n",
    "#sử dụng labelEncoder\n",
    "from sklearn.preprocessing import LabelEncoder\n",
    "le = LabelEncoder()\n",
    "df['smoking_status'] = le.fit_transform(df['smoking_status'])\n",
    "#fit_tranform tự động gán giá trị cho smoking_status\n",
    "df"
   ]
  }
 ],
 "metadata": {
  "kernelspec": {
   "display_name": "Python 3",
   "language": "python",
   "name": "python3"
  },
  "language_info": {
   "codemirror_mode": {
    "name": "ipython",
    "version": 3
   },
   "file_extension": ".py",
   "mimetype": "text/x-python",
   "name": "python",
   "nbconvert_exporter": "python",
   "pygments_lexer": "ipython3",
   "version": "3.12.3"
  }
 },
 "nbformat": 4,
 "nbformat_minor": 2
}
