{
 "cells": [
  {
   "cell_type": "code",
   "execution_count": null,
   "metadata": {},
   "outputs": [],
   "source": [
    "dff = df[df['stroke'] == 1]  \n",
    "# Đọc dữ liệu từ tập tin CSV\n",
    "import pandas as pd\n",
    "# Đường dẫn đến tập tin CSV\n",
    "#file_path = 'C:\\\\Users\\\\LG\\\\Desktop\\\\BD_DQ\\\\data_dotquy.csv'\n",
    "file_path = 'C:\\\\Users\\\\ACER\\\\Desktop\\\\BD_DQ\\\\data_dotquy.csv'\n",
    "# Đọc dữ liệu từ CSV vào DataFrame\n",
    "df = pd.read_csv(file_path)\n",
    "# Hiển thị DataFrame trong VS Code\n",
    "print(df)"
   ]
  },
  {
   "cell_type": "markdown",
   "metadata": {},
   "source": [
    "LÀM SẠCH và CHUẨN HÓA DL\n",
    "- 1 giới tính: loại other\n",
    "- 2 tuổi: Loại số thực ( vd: 0.1 , 1.56) rồi dùng kỹ thuật Age Grouping\n",
    "- 3 Đã kết hôn: chuyển về 0 và một\n",
    "- 4 kiểu làm việc(work_type)\n",
    "    + kỹ thuật Hashing Encoding\n",
    "    + kỹ thuật One-Hot Encoding\n",
    "- 5 vùng sống: chuyển về 0 và một\n",
    "- 6 BMI  \n",
    "    + Loại bỏ các hàng hoặc cột có N/A rồi dùng kỹ thuật Binary Encoding\n",
    "    + dùng kỹ thuật Simple Imputation rồi dùng kỹ thuật tiếp Min-Max Scaling\n",
    "- 7 smoking_status\n",
    "  + Loại bỏ các hàng hoặc cột có Unknown rồi dùng kỹ thuật tiếp Min-Max Scaling\n",
    "  + kỹ thuật Frequency Encoding\n",
    "- 8 avg_glucose_level (mg/dL)\n",
    "    DÙNG KỸ THUẬT: Min-Max Scaling\n",
    "  ******ĐIỀU KIỆN LÀ******\n",
    "    Người bình thường:\n",
    "     < 140\n",
    "    Người Bị tiểu đường:\n",
    "      >=140"
   ]
  },
  {
   "cell_type": "code",
   "execution_count": null,
   "metadata": {},
   "outputs": [],
   "source": [
    "#Hien\n",
    "#Kiem tra trung lap\n",
    "duplicated_rows = df[df.duplicated(subset='id')]\n",
    "print(\"So luong du lieu trung lap la:\" , len(duplicated_rows))\n",
    "\n",
    "#df = df.dropna()\n",
    "#df = df.applymap(lambda x: x.replace(\"\\n\",\" \") if isinstance(x, str) else x )"
   ]
  },
  {
   "cell_type": "code",
   "execution_count": null,
   "metadata": {},
   "outputs": [],
   "source": [
    "#hien\n",
    "#Kiểm tra dữ liệu có bị thiếu\n",
    "df.isnull().sum()"
   ]
  },
  {
   "cell_type": "code",
   "execution_count": null,
   "metadata": {},
   "outputs": [],
   "source": [
    "#Hien\n",
    "# dùng knn điền dữ liệu thiếu vào BMI\n",
    "# Tạo đối tượng KNN Imputer với số lượng hàng xóm là 3\n",
    "from sklearn.impute import KNNImputer\n",
    "\n",
    "imputer = KNNImputer(n_neighbors=3)\n",
    "\n",
    "# Áp dụng imputer cho DataFrame, chỉ chọn các cột số\n",
    "df[['age', 'bmi']] = imputer.fit_transform(df[['age', 'bmi']])\n",
    "\n",
    "# Hiển thị DataFrame sau khi điền dữ liệu\n",
    "print(df)"
   ]
  },
  {
   "cell_type": "code",
   "execution_count": null,
   "metadata": {},
   "outputs": [],
   "source": [
    "# Kiểm tra lại đã dủ dữ liệu chưa\n",
    "df['bmi'].isnull().sum()\n",
    "df['bmi']"
   ]
  },
  {
   "cell_type": "code",
   "execution_count": null,
   "metadata": {},
   "outputs": [],
   "source": [
    "#Hien\n",
    "# Xóa cột mã định danh\n",
    "df  = df.drop(columns=['id'])\n",
    "df"
   ]
  },
  {
   "cell_type": "code",
   "execution_count": null,
   "metadata": {},
   "outputs": [],
   "source": [
    "#Chau_Muc1\n",
    "#Loại bỏ giới tính mang giá trị Other\n",
    "mask = df['gender'].isin(['Male', 'Female'])\n",
    "df = df[mask]\n",
    "print(df)"
   ]
  },
  {
   "cell_type": "code",
   "execution_count": null,
   "metadata": {},
   "outputs": [],
   "source": [
    "#Chau_Muc1\n",
    "# gender: female 1 male 0\n",
    "df.loc[:, 'gender'] = df['gender'].replace({'Female': 1, 'Male': 0})\n",
    "print(df)"
   ]
  },
  {
   "cell_type": "code",
   "execution_count": null,
   "metadata": {},
   "outputs": [],
   "source": [
    "#Chau_Muc5(Phần này phân công cho GIANG)\n",
    "# Residence_type: urban 1 rural 0(can note)\n",
    "#df.loc[:, 'Residence_type'] = df['Residence_type'].replace({'Urban': 1, 'Rural': 0})\n"
   ]
  },
  {
   "cell_type": "code",
   "execution_count": null,
   "metadata": {},
   "outputs": [],
   "source": [
    "#Chau_Muc4(Phần này lấy code của bạn GIANG)\n",
    "#chuẩn hóa dữ liệu field work_type theo kỹ thuật label encoding\n",
    "#from sklearn.preprocessing import LabelEncoder\n",
    "#le=LabelEncoder()\n",
    "#df.loc[:, 'work_type'] = le.fit_transform(df['work_type'])\n",
    "#print(df)"
   ]
  },
  {
   "cell_type": "code",
   "execution_count": null,
   "metadata": {},
   "outputs": [],
   "source": [
    "#Chi_Muc2\n",
    "# Kiểm tra xem tuổi có phải là số nguyên hay không\n",
    "df['Is_Whole_Number'] = df['age'].apply(lambda x: x.is_integer())\n",
    "\n",
    "# Lọc các hàng mà tuổi không phải là số thực (chỉ giữ lại số nguyên)\n",
    "df = df[df['Is_Whole_Number']]\n",
    "\n",
    "# Xóa cột tạm thời 'Is_Whole_Number'\n",
    "df = df.drop(columns=['Is_Whole_Number'])\n",
    "\n",
    "df"
   ]
  },
  {
   "cell_type": "code",
   "execution_count": null,
   "metadata": {},
   "outputs": [],
   "source": [
    "#Chi_Muc2\n",
    "# Chuẩn hóa bằng Min-Max Scaling\n",
    "# Calculate min and max values\n",
    "X_min = min(df['age'])\n",
    "X_max = max(df['age'])\n",
    "\n",
    "# Apply Min-Max Scaling\n",
    "scaled_data = [(x - X_min) / (X_max - X_min) for x in df['age']]\n",
    "\n",
    "# Gán lại dữ liệu vào cột ['avg_glucose_level']\n",
    "df['age'] = scaled_data\n",
    "df"
   ]
  },
  {
   "cell_type": "code",
   "execution_count": null,
   "metadata": {},
   "outputs": [],
   "source": [
    "#Chi(điều chỉnh tuổi về min max)\n",
    "# Định nghĩa các khoảng tuổi và các nhãn cho các nhóm tuổi\n",
    "#bins = [0, 18, 35, 60, 100]\n",
    "#labels = ['0', '1', '2', '3']\n",
    "\n",
    "# Chia cột \"Age\" thành các nhóm tuổi\n",
    "#df['Age Group'] = pd.cut(df['age'], bins=bins, labels=labels, right=False)\n",
    "\n",
    "#df"
   ]
  },
  {
   "cell_type": "code",
   "execution_count": null,
   "metadata": {},
   "outputs": [],
   "source": [
    "#Chi_Muc3\n",
    "#Chuyen trạng thái đã kết hôn về dạng 1 và chưa kết hôn về dạng 0\n",
    "df['ever_married'] = df['ever_married'].map({'Yes': 1, 'No': 0})\n",
    "df"
   ]
  },
  {
   "cell_type": "code",
   "execution_count": null,
   "metadata": {},
   "outputs": [],
   "source": [
    "#Giang_Muc4(Gán thẳng giá trị vào work_type)\n",
    "from sklearn.preprocessing import LabelEncoder\n",
    "label_encoder = LabelEncoder()\n",
    "df['work_type'] = label_encoder.fit_transform(df['work_type'])\n",
    "\n",
    "# sử dụng chuẩn hóa bằng Min-Max Scaling chuan hoa df['work_type'] dang (0 1 2 3 4)\n",
    "# Calculate min and max values\n",
    "X_min = min(df['work_type'])\n",
    "X_max = max(df['work_type'])\n",
    "\n",
    "# Apply Min-Max Scaling\n",
    "scaled_data = [(x - X_min) / (X_max - X_min) for x in df['work_type']]\n",
    "scaled_data\n",
    "# Tạo ra trường dữ liệu mới work_type_2\n",
    "df['work_type'] =scaled_data\n",
    "df"
   ]
  },
  {
   "cell_type": "code",
   "execution_count": null,
   "metadata": {},
   "outputs": [],
   "source": [
    "#Giang_Muc5\n",
    "# Chuyen trạng thái thành thị về dạng 1 và nông thôn về dạng 0\n",
    "df['Residence_type']=df['Residence_type'].replace({'Urban':1,'Rural':0})\n",
    "mask = df['gender'] != 'Other'\n",
    "df_filtered = df[mask]\n",
    "print(df_filtered) "
   ]
  },
  {
   "cell_type": "code",
   "execution_count": null,
   "metadata": {},
   "outputs": [],
   "source": [
    "#Hien_Mục6\n",
    "# chuẩn hóa bằng Min-Max Scaling\n",
    "glucose_values = df['avg_glucose_level']\n",
    "\n",
    "# Calculate min and max values\n",
    "X_min = min(df['avg_glucose_level'])\n",
    "X_max = max(df['avg_glucose_level'])\n",
    "\n",
    "# Apply Min-Max Scaling\n",
    "scaled_data = [(x - X_min) / (X_max - X_min) for x in df['avg_glucose_level']]\n",
    "\n",
    "# Gán lại dữ liệu vào cột ['avg_glucose_level']\n",
    "df['avg_glucose_level'] = scaled_data\n",
    "df\n"
   ]
  },
  {
   "cell_type": "code",
   "execution_count": null,
   "metadata": {},
   "outputs": [],
   "source": [
    "#Hoang_Muc7\n",
    "# Dữ liệu ban đầu\n",
    "data = df['bmi']\n",
    "\n",
    "# Min-Max Scaling\n",
    "data_min = data.min()\n",
    "data_max = data.max()\n",
    "\n",
    "scaled_data = (data - data_min) / (data_max - data_min)\n",
    "\n",
    "# Hiển thị dữ liệu đã chuẩn hóa\n",
    "print(scaled_data)"
   ]
  },
  {
   "cell_type": "code",
   "execution_count": null,
   "metadata": {},
   "outputs": [],
   "source": [
    "#Hoang_Muc7\n",
    "df['bmi']=scaled_data\n",
    "df"
   ]
  },
  {
   "cell_type": "code",
   "execution_count": null,
   "metadata": {},
   "outputs": [],
   "source": [
    "#Hoang_Muc7\n",
    "# Dữ liệu ban đầu\n",
    "data = df['bmi']\n",
    "\n",
    "# Chuyển đổi dữ liệu thành DataFrame\n",
    "dff = pd.DataFrame(data, columns=['bmi'])\n",
    "dff"
   ]
  },
  {
   "cell_type": "code",
   "execution_count": null,
   "metadata": {},
   "outputs": [],
   "source": [
    "dff = df[df['stroke'] == 1]  \n",
    "dff"
   ]
  },
  {
   "cell_type": "code",
   "execution_count": null,
   "metadata": {},
   "outputs": [],
   "source": [
    "dfstr = df[df['heart_disease'] == 1]\n",
    "dfstr"
   ]
  },
  {
   "cell_type": "code",
   "execution_count": null,
   "metadata": {},
   "outputs": [],
   "source": [
    "dfstrss = dfstr[dfstr['stroke'] == 1]\n",
    "dfstrss\n",
    "#Binh_Muc8\n",
    "df.dropna(how='all', inplace=True)\n",
    "df.head()"
   ]
  },
  {
   "cell_type": "code",
   "execution_count": null,
   "metadata": {},
   "outputs": [],
   "source": [
    "len(dfstrss)\n"
   ]
  },
  {
   "cell_type": "markdown",
   "metadata": {},
   "source": [
    "XÂY DỰNG MÔ HÌNH"
   ]
  },
  {
   "cell_type": "code",
   "execution_count": null,
   "metadata": {},
   "outputs": [],
   "source": [
    "#Chau_muc2\n",
    "#chia bộ dữ liệu thành tập huấn luyện và tập kiểm tra.\n",
    "from sklearn.model_selection import train_test_split\n",
    "#import lớp DecisionTreeClassifier từ thư viện scikit-learn. Đại diện cho mô hình cây quyết định.\n",
    "from sklearn.tree import DecisionTreeClassifier\n",
    "from sklearn.metrics import accuracy_score, classification_report\n",
    "# Chọn các cột làm đặc trưng và nhãn x: đặc trưng y là nhãn\n",
    "X = df[['gender', 'age', 'hypertension', 'heart_disease', 'ever_married', 'work_type', 'Residence_type', 'avg_glucose_level', 'bmi', 'smoking_status']]\n",
    "y = df['stroke']\n",
    "# Chia dữ liệu thành tập huấn luyện và tập kiểm tra\n",
    "X_train, X_test, y_train, y_test = train_test_split(X, y, test_size=0.2, random_state=0)\n",
    "#loại bỏ cột stroke khỏi df, loại bỏ cột axis=1 nếu axis=0 thì loại bỏ hàng\n",
    "x=df.drop(['stroke'],axis=1)\n",
    "#tạo series y chứa các giá trị cột stroke trong df\n",
    "y=df['stroke']\n",
    "#tạo mô hình cây quyết định\n",
    "model=DecisionTreeClassifier()\n",
    "#huấn luyện mô hình\n",
    "model.fit(X_train,y_train)\n",
    "#Dự đoán trên tập kiểm tra\n",
    "y_pred =model.predict(X_test)\n",
    "#Đánh giá mô hình\n",
    "print(classification_report(y_test,y_pred))\n",
    "print(\"Độ chính xác của mô hình decision tree là: \", model.score(X_test, y_test)*100,\"%\")"
   ]
  },
  {
   "cell_type": "code",
   "execution_count": null,
   "metadata": {},
   "outputs": [],
   "source": [
    "#Giang_Muc2\n",
    "\n",
    "#import thu vien\n",
    "import numpy as np\n",
    "import seaborn as sns # mở cmd cài:  pip install seaborn\n",
    "import matplotlib.pyplot as plt # mở cmd cài:  pip install matplotlib\n",
    "from sklearn.model_selection import train_test_split\n",
    "from sklearn.tree import DecisionTreeClassifier\n",
    "from sklearn.metrics import accuracy_score, classification_report, confusion_matrix\n"
   ]
  }
 ],
 "metadata": {
  "kernelspec": {
   "display_name": "Python 3",
   "language": "python",
   "name": "python3"
  },
  "language_info": {
   "codemirror_mode": {
    "name": "ipython",
    "version": 3
   },
   "file_extension": ".py",
   "mimetype": "text/x-python",
   "name": "python",
   "nbconvert_exporter": "python",
   "pygments_lexer": "ipython3",
   "version": "3.12.3"
  }
 },
 "nbformat": 4,
 "nbformat_minor": 2
}
