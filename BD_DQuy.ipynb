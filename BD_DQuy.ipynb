{
 "cells": [
  {
   "cell_type": "code",
   "execution_count": 1,
   "metadata": {},
   "outputs": [
    {
     "name": "stdout",
     "output_type": "stream",
     "text": [
      "         id  gender   age  hypertension  heart_disease ever_married  \\\n",
      "0      9046    Male  67.0             0              1          Yes   \n",
      "1     51676  Female  61.0             0              0          Yes   \n",
      "2     31112    Male  80.0             0              1          Yes   \n",
      "3     60182  Female  49.0             0              0          Yes   \n",
      "4      1665  Female  79.0             1              0          Yes   \n",
      "...     ...     ...   ...           ...            ...          ...   \n",
      "5105  18234  Female  80.0             1              0          Yes   \n",
      "5106  44873  Female  81.0             0              0          Yes   \n",
      "5107  19723  Female  35.0             0              0          Yes   \n",
      "5108  37544    Male  51.0             0              0          Yes   \n",
      "5109  44679  Female  44.0             0              0          Yes   \n",
      "\n",
      "          work_type Residence_type  avg_glucose_level   bmi   smoking_status  \\\n",
      "0           Private          Urban             228.69  36.6  formerly smoked   \n",
      "1     Self-employed          Rural             202.21   NaN     never smoked   \n",
      "2           Private          Rural             105.92  32.5     never smoked   \n",
      "3           Private          Urban             171.23  34.4           smokes   \n",
      "4     Self-employed          Rural             174.12  24.0     never smoked   \n",
      "...             ...            ...                ...   ...              ...   \n",
      "5105        Private          Urban              83.75   NaN     never smoked   \n",
      "5106  Self-employed          Urban             125.20  40.0     never smoked   \n",
      "5107  Self-employed          Rural              82.99  30.6     never smoked   \n",
      "5108        Private          Rural             166.29  25.6  formerly smoked   \n",
      "5109       Govt_job          Urban              85.28  26.2          Unknown   \n",
      "\n",
      "      stroke  \n",
      "0          1  \n",
      "1          1  \n",
      "2          1  \n",
      "3          1  \n",
      "4          1  \n",
      "...      ...  \n",
      "5105       0  \n",
      "5106       0  \n",
      "5107       0  \n",
      "5108       0  \n",
      "5109       0  \n",
      "\n",
      "[5110 rows x 12 columns]\n"
     ]
    }
   ],
   "source": [
    "# Đọc dữ liệu từ tập tin CSV\n",
    "import pandas as pd\n",
    "# Đường dẫn đến tập tin CSV\n",
    "file_path = 'C:\\\\Users\\\\ACER\\\\Desktop\\\\BD_DQ\\\\data_dotquy.csv'#Hien\n",
    "#file_path = 'C:\\\\Users\\\\Admin\\\\Desktop\\\\BD_DQ\\\\data_dotquy.csv'\n",
    "# Đọc dữ liệu từ CSV vào DataFrame\n",
    "df = pd.read_csv(file_path)\n",
    "# Hiển thị DataFrame trong VS Code\n",
    "print(df)"
   ]
  },
  {
   "cell_type": "markdown",
   "metadata": {},
   "source": [
    "LÀM SẠCH và CHUẨN HÓA DL\n",
    "- 1 giới tính: loại other\n",
    "- 2 tuổi: Loại số thực ( vd: 0.1 , 1.56) rồi dùng kỹ thuật Age Grouping\n",
    "- 3 Đã kết hôn: chuyển về 0 và một\n",
    "- 4 kiểu làm việc(work_type)\n",
    "    + kỹ thuật Hashing Encoding\n",
    "    + kỹ thuật One-Hot Encoding\n",
    "- 5 vùng sống: chuyển về 0 và một\n",
    "- 6 BMI  \n",
    "    + Loại bỏ các hàng hoặc cột có N/A rồi dùng kỹ thuật Binary Encoding\n",
    "    + dùng kỹ thuật Simple Imputation rồi dùng kỹ thuật tiếp Min-Max Scaling\n",
    "- 7 smoking_status\n",
    "  + Loại bỏ các hàng hoặc cột có Unknown rồi dùng kỹ thuật tiếp Min-Max Scaling\n",
    "  + kỹ thuật Frequency Encoding\n",
    "- 8 avg_glucose_level (mg/dL)\n",
    "    DÙNG KỸ THUẬT: Min-Max Scaling\n",
    "  ******ĐIỀU KIỆN LÀ******\n",
    "    Người bình thường:\n",
    "     < 140\n",
    "    Người Bị tiểu đường:\n",
    "      >=140"
   ]
  },
  {
   "cell_type": "code",
   "execution_count": 2,
   "metadata": {},
   "outputs": [
    {
     "name": "stdout",
     "output_type": "stream",
     "text": [
      "So luong du lieu trung lap la: 0\n"
     ]
    },
    {
     "name": "stderr",
     "output_type": "stream",
     "text": [
      "C:\\Users\\ACER\\AppData\\Local\\Temp\\ipykernel_6380\\2419221204.py:7: FutureWarning: DataFrame.applymap has been deprecated. Use DataFrame.map instead.\n",
      "  df = df.applymap(lambda x: x.replace(\"\\n\",\" \") if isinstance(x, str) else x )\n"
     ]
    }
   ],
   "source": [
    "#Hien\n",
    "#Kiem tra trung lap\n",
    "duplicated_rows = df[df.duplicated(subset='id')]\n",
    "print(\"So luong du lieu trung lap la:\" , len(duplicated_rows))\n",
    "\n",
    "df = df.dropna()\n",
    "df = df.applymap(lambda x: x.replace(\"\\n\",\" \") if isinstance(x, str) else x )"
   ]
  },
  {
   "cell_type": "code",
   "execution_count": 3,
   "metadata": {},
   "outputs": [
    {
     "data": {
      "text/plain": [
       "id                   0\n",
       "gender               0\n",
       "age                  0\n",
       "hypertension         0\n",
       "heart_disease        0\n",
       "ever_married         0\n",
       "work_type            0\n",
       "Residence_type       0\n",
       "avg_glucose_level    0\n",
       "bmi                  0\n",
       "smoking_status       0\n",
       "stroke               0\n",
       "dtype: int64"
      ]
     },
     "execution_count": 3,
     "metadata": {},
     "output_type": "execute_result"
    }
   ],
   "source": [
    "#hien\n",
    "#Kiểm tra dữ liệu có bị thiếu\n",
    "df.isnull().sum()"
   ]
  },
  {
   "cell_type": "code",
   "execution_count": 4,
   "metadata": {},
   "outputs": [
    {
     "name": "stdout",
     "output_type": "stream",
     "text": [
      "         id  gender   age  hypertension  heart_disease ever_married  \\\n",
      "0      9046    Male  67.0             0              1          Yes   \n",
      "2     31112    Male  80.0             0              1          Yes   \n",
      "3     60182  Female  49.0             0              0          Yes   \n",
      "4      1665  Female  79.0             1              0          Yes   \n",
      "5     56669    Male  81.0             0              0          Yes   \n",
      "...     ...     ...   ...           ...            ...          ...   \n",
      "5104  14180  Female  13.0             0              0           No   \n",
      "5106  44873  Female  81.0             0              0          Yes   \n",
      "5107  19723  Female  35.0             0              0          Yes   \n",
      "5108  37544    Male  51.0             0              0          Yes   \n",
      "5109  44679  Female  44.0             0              0          Yes   \n",
      "\n",
      "          work_type Residence_type  avg_glucose_level   bmi   smoking_status  \\\n",
      "0           Private          Urban             228.69  36.6  formerly smoked   \n",
      "2           Private          Rural             105.92  32.5     never smoked   \n",
      "3           Private          Urban             171.23  34.4           smokes   \n",
      "4     Self-employed          Rural             174.12  24.0     never smoked   \n",
      "5           Private          Urban             186.21  29.0  formerly smoked   \n",
      "...             ...            ...                ...   ...              ...   \n",
      "5104       children          Rural             103.08  18.6          Unknown   \n",
      "5106  Self-employed          Urban             125.20  40.0     never smoked   \n",
      "5107  Self-employed          Rural              82.99  30.6     never smoked   \n",
      "5108        Private          Rural             166.29  25.6  formerly smoked   \n",
      "5109       Govt_job          Urban              85.28  26.2          Unknown   \n",
      "\n",
      "      stroke  \n",
      "0          1  \n",
      "2          1  \n",
      "3          1  \n",
      "4          1  \n",
      "5          1  \n",
      "...      ...  \n",
      "5104       0  \n",
      "5106       0  \n",
      "5107       0  \n",
      "5108       0  \n",
      "5109       0  \n",
      "\n",
      "[4909 rows x 12 columns]\n"
     ]
    }
   ],
   "source": [
    "#Hien\n",
    "# Dung knn dien vao BMI\n",
    "# Tạo đối tượng KNN Imputer với số lượng hàng xóm là 3\n",
    "from sklearn.impute import KNNImputer\n",
    "\n",
    "imputer = KNNImputer(n_neighbors=3)\n",
    "\n",
    "# Áp dụng imputer cho DataFrame, chỉ chọn các cột số\n",
    "df[['age', 'bmi']] = imputer.fit_transform(df[['age', 'bmi']])\n",
    "\n",
    "# Hiển thị DataFrame sau khi điền dữ liệu\n",
    "print(df)"
   ]
  },
  {
   "cell_type": "code",
   "execution_count": 5,
   "metadata": {},
   "outputs": [
    {
     "data": {
      "text/plain": [
       "np.int64(0)"
      ]
     },
     "execution_count": 5,
     "metadata": {},
     "output_type": "execute_result"
    }
   ],
   "source": [
    "# Kiểm tra lại đã dủ dữ liệu chưa\n",
    "df['bmi'].isnull().sum()"
   ]
  },
  {
   "cell_type": "code",
   "execution_count": 6,
   "metadata": {},
   "outputs": [
    {
     "name": "stdout",
     "output_type": "stream",
     "text": [
      "<class 'pandas.core.frame.DataFrame'>\n",
      "Index: 4909 entries, 0 to 5109\n",
      "Data columns (total 11 columns):\n",
      " #   Column             Non-Null Count  Dtype  \n",
      "---  ------             --------------  -----  \n",
      " 0   gender             4909 non-null   object \n",
      " 1   age                4909 non-null   float64\n",
      " 2   hypertension       4909 non-null   int64  \n",
      " 3   heart_disease      4909 non-null   int64  \n",
      " 4   ever_married       4909 non-null   object \n",
      " 5   work_type          4909 non-null   object \n",
      " 6   Residence_type     4909 non-null   object \n",
      " 7   avg_glucose_level  4909 non-null   float64\n",
      " 8   bmi                4909 non-null   float64\n",
      " 9   smoking_status     4909 non-null   object \n",
      " 10  stroke             4909 non-null   int64  \n",
      "dtypes: float64(3), int64(3), object(5)\n",
      "memory usage: 460.2+ KB\n"
     ]
    }
   ],
   "source": [
    "#Hien\n",
    "# Xóa cột mã định danh\n",
    "df  = df.drop(columns=['id'])\n",
    "df.info()"
   ]
  },
  {
   "cell_type": "code",
   "execution_count": 7,
   "metadata": {},
   "outputs": [
    {
     "name": "stdout",
     "output_type": "stream",
     "text": [
      "      gender   age  hypertension  heart_disease ever_married      work_type  \\\n",
      "0       Male  67.0             0              1          Yes        Private   \n",
      "2       Male  80.0             0              1          Yes        Private   \n",
      "3     Female  49.0             0              0          Yes        Private   \n",
      "4     Female  79.0             1              0          Yes  Self-employed   \n",
      "5       Male  81.0             0              0          Yes        Private   \n",
      "...      ...   ...           ...            ...          ...            ...   \n",
      "5104  Female  13.0             0              0           No       children   \n",
      "5106  Female  81.0             0              0          Yes  Self-employed   \n",
      "5107  Female  35.0             0              0          Yes  Self-employed   \n",
      "5108    Male  51.0             0              0          Yes        Private   \n",
      "5109  Female  44.0             0              0          Yes       Govt_job   \n",
      "\n",
      "     Residence_type  avg_glucose_level   bmi   smoking_status  stroke  \n",
      "0             Urban             228.69  36.6  formerly smoked       1  \n",
      "2             Rural             105.92  32.5     never smoked       1  \n",
      "3             Urban             171.23  34.4           smokes       1  \n",
      "4             Rural             174.12  24.0     never smoked       1  \n",
      "5             Urban             186.21  29.0  formerly smoked       1  \n",
      "...             ...                ...   ...              ...     ...  \n",
      "5104          Rural             103.08  18.6          Unknown       0  \n",
      "5106          Urban             125.20  40.0     never smoked       0  \n",
      "5107          Rural              82.99  30.6     never smoked       0  \n",
      "5108          Rural             166.29  25.6  formerly smoked       0  \n",
      "5109          Urban              85.28  26.2          Unknown       0  \n",
      "\n",
      "[4908 rows x 11 columns]\n"
     ]
    }
   ],
   "source": [
    "#Chau\n",
    "#Loại bỏ giới tính mang giá trị Other\n",
    "mask = df['gender'].isin(['Male', 'Female'])\n",
    "df = df[mask]\n",
    "print(df)"
   ]
  },
  {
   "cell_type": "code",
   "execution_count": 8,
   "metadata": {},
   "outputs": [
    {
     "name": "stdout",
     "output_type": "stream",
     "text": [
      "     gender   age  hypertension  heart_disease ever_married      work_type  \\\n",
      "0         0  67.0             0              1          Yes        Private   \n",
      "2         0  80.0             0              1          Yes        Private   \n",
      "3         1  49.0             0              0          Yes        Private   \n",
      "4         1  79.0             1              0          Yes  Self-employed   \n",
      "5         0  81.0             0              0          Yes        Private   \n",
      "...     ...   ...           ...            ...          ...            ...   \n",
      "5104      1  13.0             0              0           No       children   \n",
      "5106      1  81.0             0              0          Yes  Self-employed   \n",
      "5107      1  35.0             0              0          Yes  Self-employed   \n",
      "5108      0  51.0             0              0          Yes        Private   \n",
      "5109      1  44.0             0              0          Yes       Govt_job   \n",
      "\n",
      "     Residence_type  avg_glucose_level   bmi   smoking_status  stroke  \n",
      "0             Urban             228.69  36.6  formerly smoked       1  \n",
      "2             Rural             105.92  32.5     never smoked       1  \n",
      "3             Urban             171.23  34.4           smokes       1  \n",
      "4             Rural             174.12  24.0     never smoked       1  \n",
      "5             Urban             186.21  29.0  formerly smoked       1  \n",
      "...             ...                ...   ...              ...     ...  \n",
      "5104          Rural             103.08  18.6          Unknown       0  \n",
      "5106          Urban             125.20  40.0     never smoked       0  \n",
      "5107          Rural              82.99  30.6     never smoked       0  \n",
      "5108          Rural             166.29  25.6  formerly smoked       0  \n",
      "5109          Urban              85.28  26.2          Unknown       0  \n",
      "\n",
      "[4908 rows x 11 columns]\n"
     ]
    },
    {
     "name": "stderr",
     "output_type": "stream",
     "text": [
      "C:\\Users\\ACER\\AppData\\Local\\Temp\\ipykernel_6380\\880359247.py:3: FutureWarning: Downcasting behavior in `replace` is deprecated and will be removed in a future version. To retain the old behavior, explicitly call `result.infer_objects(copy=False)`. To opt-in to the future behavior, set `pd.set_option('future.no_silent_downcasting', True)`\n",
      "  df.loc[:, 'gender'] = df['gender'].replace({'Female': 1, 'Male': 0})\n"
     ]
    }
   ],
   "source": [
    "#Chau\n",
    "# gender: female 1 male 0\n",
    "df.loc[:, 'gender'] = df['gender'].replace({'Female': 1, 'Male': 0})\n",
    "print(df)"
   ]
  },
  {
   "cell_type": "code",
   "execution_count": null,
   "metadata": {},
   "outputs": [],
   "source": [
    "#Chau\n",
    "# Residence_type: urban 1 rural 0(can note)\n",
    "df.loc[:, 'Residence_type'] = df['Residence_type'].replace({'Urban': 1, 'Rural': 0})\n"
   ]
  },
  {
   "cell_type": "code",
   "execution_count": null,
   "metadata": {},
   "outputs": [],
   "source": [
    "#Chau\n",
    "#chuẩn hóa dữ liệu field work_type theo kỹ thuật label encoding\n",
    "from sklearn.preprocessing import LabelEncoder\n",
    "le=LabelEncoder()\n",
    "df.loc[:, 'work_type'] = le.fit_transform(df['work_type'])\n",
    "print(df)"
   ]
  },
  {
   "cell_type": "code",
   "execution_count": 9,
   "metadata": {},
   "outputs": [
    {
     "data": {
      "text/html": [
       "<div>\n",
       "<style scoped>\n",
       "    .dataframe tbody tr th:only-of-type {\n",
       "        vertical-align: middle;\n",
       "    }\n",
       "\n",
       "    .dataframe tbody tr th {\n",
       "        vertical-align: top;\n",
       "    }\n",
       "\n",
       "    .dataframe thead th {\n",
       "        text-align: right;\n",
       "    }\n",
       "</style>\n",
       "<table border=\"1\" class=\"dataframe\">\n",
       "  <thead>\n",
       "    <tr style=\"text-align: right;\">\n",
       "      <th></th>\n",
       "      <th>gender</th>\n",
       "      <th>age</th>\n",
       "      <th>hypertension</th>\n",
       "      <th>heart_disease</th>\n",
       "      <th>ever_married</th>\n",
       "      <th>work_type</th>\n",
       "      <th>Residence_type</th>\n",
       "      <th>avg_glucose_level</th>\n",
       "      <th>bmi</th>\n",
       "      <th>smoking_status</th>\n",
       "      <th>stroke</th>\n",
       "    </tr>\n",
       "  </thead>\n",
       "  <tbody>\n",
       "    <tr>\n",
       "      <th>0</th>\n",
       "      <td>0</td>\n",
       "      <td>67.0</td>\n",
       "      <td>0</td>\n",
       "      <td>1</td>\n",
       "      <td>Yes</td>\n",
       "      <td>Private</td>\n",
       "      <td>Urban</td>\n",
       "      <td>228.69</td>\n",
       "      <td>36.6</td>\n",
       "      <td>formerly smoked</td>\n",
       "      <td>1</td>\n",
       "    </tr>\n",
       "    <tr>\n",
       "      <th>2</th>\n",
       "      <td>0</td>\n",
       "      <td>80.0</td>\n",
       "      <td>0</td>\n",
       "      <td>1</td>\n",
       "      <td>Yes</td>\n",
       "      <td>Private</td>\n",
       "      <td>Rural</td>\n",
       "      <td>105.92</td>\n",
       "      <td>32.5</td>\n",
       "      <td>never smoked</td>\n",
       "      <td>1</td>\n",
       "    </tr>\n",
       "    <tr>\n",
       "      <th>3</th>\n",
       "      <td>1</td>\n",
       "      <td>49.0</td>\n",
       "      <td>0</td>\n",
       "      <td>0</td>\n",
       "      <td>Yes</td>\n",
       "      <td>Private</td>\n",
       "      <td>Urban</td>\n",
       "      <td>171.23</td>\n",
       "      <td>34.4</td>\n",
       "      <td>smokes</td>\n",
       "      <td>1</td>\n",
       "    </tr>\n",
       "    <tr>\n",
       "      <th>4</th>\n",
       "      <td>1</td>\n",
       "      <td>79.0</td>\n",
       "      <td>1</td>\n",
       "      <td>0</td>\n",
       "      <td>Yes</td>\n",
       "      <td>Self-employed</td>\n",
       "      <td>Rural</td>\n",
       "      <td>174.12</td>\n",
       "      <td>24.0</td>\n",
       "      <td>never smoked</td>\n",
       "      <td>1</td>\n",
       "    </tr>\n",
       "    <tr>\n",
       "      <th>5</th>\n",
       "      <td>0</td>\n",
       "      <td>81.0</td>\n",
       "      <td>0</td>\n",
       "      <td>0</td>\n",
       "      <td>Yes</td>\n",
       "      <td>Private</td>\n",
       "      <td>Urban</td>\n",
       "      <td>186.21</td>\n",
       "      <td>29.0</td>\n",
       "      <td>formerly smoked</td>\n",
       "      <td>1</td>\n",
       "    </tr>\n",
       "    <tr>\n",
       "      <th>...</th>\n",
       "      <td>...</td>\n",
       "      <td>...</td>\n",
       "      <td>...</td>\n",
       "      <td>...</td>\n",
       "      <td>...</td>\n",
       "      <td>...</td>\n",
       "      <td>...</td>\n",
       "      <td>...</td>\n",
       "      <td>...</td>\n",
       "      <td>...</td>\n",
       "      <td>...</td>\n",
       "    </tr>\n",
       "    <tr>\n",
       "      <th>5104</th>\n",
       "      <td>1</td>\n",
       "      <td>13.0</td>\n",
       "      <td>0</td>\n",
       "      <td>0</td>\n",
       "      <td>No</td>\n",
       "      <td>children</td>\n",
       "      <td>Rural</td>\n",
       "      <td>103.08</td>\n",
       "      <td>18.6</td>\n",
       "      <td>Unknown</td>\n",
       "      <td>0</td>\n",
       "    </tr>\n",
       "    <tr>\n",
       "      <th>5106</th>\n",
       "      <td>1</td>\n",
       "      <td>81.0</td>\n",
       "      <td>0</td>\n",
       "      <td>0</td>\n",
       "      <td>Yes</td>\n",
       "      <td>Self-employed</td>\n",
       "      <td>Urban</td>\n",
       "      <td>125.20</td>\n",
       "      <td>40.0</td>\n",
       "      <td>never smoked</td>\n",
       "      <td>0</td>\n",
       "    </tr>\n",
       "    <tr>\n",
       "      <th>5107</th>\n",
       "      <td>1</td>\n",
       "      <td>35.0</td>\n",
       "      <td>0</td>\n",
       "      <td>0</td>\n",
       "      <td>Yes</td>\n",
       "      <td>Self-employed</td>\n",
       "      <td>Rural</td>\n",
       "      <td>82.99</td>\n",
       "      <td>30.6</td>\n",
       "      <td>never smoked</td>\n",
       "      <td>0</td>\n",
       "    </tr>\n",
       "    <tr>\n",
       "      <th>5108</th>\n",
       "      <td>0</td>\n",
       "      <td>51.0</td>\n",
       "      <td>0</td>\n",
       "      <td>0</td>\n",
       "      <td>Yes</td>\n",
       "      <td>Private</td>\n",
       "      <td>Rural</td>\n",
       "      <td>166.29</td>\n",
       "      <td>25.6</td>\n",
       "      <td>formerly smoked</td>\n",
       "      <td>0</td>\n",
       "    </tr>\n",
       "    <tr>\n",
       "      <th>5109</th>\n",
       "      <td>1</td>\n",
       "      <td>44.0</td>\n",
       "      <td>0</td>\n",
       "      <td>0</td>\n",
       "      <td>Yes</td>\n",
       "      <td>Govt_job</td>\n",
       "      <td>Urban</td>\n",
       "      <td>85.28</td>\n",
       "      <td>26.2</td>\n",
       "      <td>Unknown</td>\n",
       "      <td>0</td>\n",
       "    </tr>\n",
       "  </tbody>\n",
       "</table>\n",
       "<p>4799 rows × 11 columns</p>\n",
       "</div>"
      ],
      "text/plain": [
       "     gender   age  hypertension  heart_disease ever_married      work_type  \\\n",
       "0         0  67.0             0              1          Yes        Private   \n",
       "2         0  80.0             0              1          Yes        Private   \n",
       "3         1  49.0             0              0          Yes        Private   \n",
       "4         1  79.0             1              0          Yes  Self-employed   \n",
       "5         0  81.0             0              0          Yes        Private   \n",
       "...     ...   ...           ...            ...          ...            ...   \n",
       "5104      1  13.0             0              0           No       children   \n",
       "5106      1  81.0             0              0          Yes  Self-employed   \n",
       "5107      1  35.0             0              0          Yes  Self-employed   \n",
       "5108      0  51.0             0              0          Yes        Private   \n",
       "5109      1  44.0             0              0          Yes       Govt_job   \n",
       "\n",
       "     Residence_type  avg_glucose_level   bmi   smoking_status  stroke  \n",
       "0             Urban             228.69  36.6  formerly smoked       1  \n",
       "2             Rural             105.92  32.5     never smoked       1  \n",
       "3             Urban             171.23  34.4           smokes       1  \n",
       "4             Rural             174.12  24.0     never smoked       1  \n",
       "5             Urban             186.21  29.0  formerly smoked       1  \n",
       "...             ...                ...   ...              ...     ...  \n",
       "5104          Rural             103.08  18.6          Unknown       0  \n",
       "5106          Urban             125.20  40.0     never smoked       0  \n",
       "5107          Rural              82.99  30.6     never smoked       0  \n",
       "5108          Rural             166.29  25.6  formerly smoked       0  \n",
       "5109          Urban              85.28  26.2          Unknown       0  \n",
       "\n",
       "[4799 rows x 11 columns]"
      ]
     },
     "execution_count": 9,
     "metadata": {},
     "output_type": "execute_result"
    }
   ],
   "source": [
    "#Chi\n",
    "# Kiểm tra xem tuổi có phải là số nguyên hay không\n",
    "df['Is_Whole_Number'] = df['age'].apply(lambda x: x.is_integer())\n",
    "\n",
    "# Lọc các hàng mà tuổi không phải là số thực (chỉ giữ lại số nguyên)\n",
    "df = df[df['Is_Whole_Number']]\n",
    "\n",
    "# Xóa cột tạm thời 'Is_Whole_Number'\n",
    "df = df.drop(columns=['Is_Whole_Number'])\n",
    "\n",
    "df"
   ]
  },
  {
   "cell_type": "code",
   "execution_count": null,
   "metadata": {},
   "outputs": [],
   "source": [
    "#Chi\n",
    "# Định nghĩa các khoảng tuổi và các nhãn cho các nhóm tuổi\n",
    "bins = [0, 18, 35, 60, 100]\n",
    "labels = ['0', '1', '2', '3']\n",
    "\n",
    "# Chia cột \"Age\" thành các nhóm tuổi\n",
    "df['Age Group'] = pd.cut(df['age'], bins=bins, labels=labels, right=False)\n",
    "\n",
    "df"
   ]
  },
  {
   "cell_type": "code",
   "execution_count": null,
   "metadata": {},
   "outputs": [],
   "source": [
    "#Chi\n",
    "# Chuyển đổi các nhóm tuổi thành các giá trị số\n",
    "df['Age Group'] = df['Age Group'].cat.codes.astype(float)\n",
    "df"
   ]
  },
  {
   "cell_type": "code",
   "execution_count": null,
   "metadata": {},
   "outputs": [],
   "source": [
    "#Hien\n",
    "# khong tieu duong\n",
    "def glucose_normal(value):\n",
    "    if value < 140:\n",
    "        return value\n",
    "    else:\n",
    "        return 0\n",
    "normal_data = [glucose_normal(x) for x in df['avg_glucose_level']]\n",
    "#print(normal_data)\n",
    "\n",
    "# Calculate min and max values\n",
    "X_min = min(normal_data)\n",
    "X_max = max(normal_data)\n",
    "\n",
    "# Apply Min-Max Scaling\n",
    "scaled_data = [(x - X_min) / (X_max - X_min) for x in normal_data]\n",
    "scaled_data\n",
    "df['glucose_normal'] = scaled_data\n"
   ]
  },
  {
   "cell_type": "code",
   "execution_count": null,
   "metadata": {},
   "outputs": [],
   "source": [
    "#Hien\n",
    "# tieu duong\n",
    "def glucose_classify(value):\n",
    "    if value >= 140:\n",
    "        return value\n",
    "    else:\n",
    "        return 0\n",
    "\n",
    "classified_data = [glucose_classify(x) for x in df['avg_glucose_level']]\n",
    "#classified_data\n",
    "\n",
    "# Calculate min and max values\n",
    "X_min = min(classified_data)\n",
    "X_max = max(classified_data)\n",
    "\n",
    "# Apply Min-Max Scaling\n",
    "scaled_data = [(x - X_min) / (X_max - X_min) for x in classified_data]\n",
    "scaled_data\n",
    "df['glucose_classify'] = scaled_data\n"
   ]
  },
  {
   "cell_type": "code",
   "execution_count": null,
   "metadata": {},
   "outputs": [],
   "source": [
    "#Hien\n",
    "# chuẩn hóa bằng Min-Max Scaling\n",
    "glucose_values = df['avg_glucose_level']\n",
    "\n",
    "# Calculate min and max values\n",
    "X_min = min(df['avg_glucose_level'])\n",
    "X_max = max(df['avg_glucose_level'])\n",
    "\n",
    "# Apply Min-Max Scaling\n",
    "scaled_data = [(x - X_min) / (X_max - X_min) for x in df['avg_glucose_level']]\n",
    "\n",
    "# Print the original and scaled data\n",
    "#print(scaled_data)\n",
    "#df['glucose_normalized_data'] = scaled_data\n",
    "\n",
    "df['avg_glucose_level'] = scaled_data\n",
    "df\n"
   ]
  },
  {
   "cell_type": "code",
   "execution_count": null,
   "metadata": {},
   "outputs": [],
   "source": [
    "\n",
    "\n"
   ]
  },
  {
   "cell_type": "code",
   "execution_count": null,
   "metadata": {},
   "outputs": [],
   "source": [
    "#Giang \n",
    "\n",
    "df['Residence_type']=df['Residence_type'].replace({'Urban':1,'Rural':0})\n",
    "mask = df['gender'] != 'Other'\n",
    "df_filtered = df[mask]\n",
    "print(df_filtered) "
   ]
  },
  {
   "cell_type": "code",
   "execution_count": null,
   "metadata": {},
   "outputs": [],
   "source": [
    "#Giang\n",
    "from sklearn.preprocessing import LabelEncoder\n",
    "label_encoder = LabelEncoder()\n",
    "df['work_type'] = label_encoder.fit_transform(df['work_type'])\n",
    "\n",
    "# sử dụng chuẩn hóa bằng Min-Max Scaling chuan hoa df['work_type'] dang (0 1 2 3 4)\n",
    "# Calculate min and max values\n",
    "X_min = min(df['work_type'])\n",
    "X_max = max(df['work_type'])\n",
    "\n",
    "# Apply Min-Max Scaling\n",
    "scaled_data = [(x - X_min) / (X_max - X_min) for x in df['work_type']]\n",
    "scaled_data\n",
    "# Tạo ra trường dữ liệu mới work_type_2\n",
    "df['work_type_2'] =scaled_data\n",
    "df"
   ]
  },
  {
   "cell_type": "code",
   "execution_count": null,
   "metadata": {},
   "outputs": [],
   "source": [
    "#Hoang\n",
    "# Dữ liệu ban đầu\n",
    "data = df['bmi']\n",
    "\n",
    "# Min-Max Scaling\n",
    "data_min = data.min()\n",
    "data_max = data.max()\n",
    "\n",
    "scaled_data = (data - data_min) / (data_max - data_min)\n",
    "\n",
    "# Hiển thị dữ liệu đã chuẩn hóa\n",
    "print(scaled_data)"
   ]
  },
  {
   "cell_type": "code",
   "execution_count": null,
   "metadata": {},
   "outputs": [],
   "source": [
    "#Hoang\n",
    "df['bmi']=scaled_data\n",
    "df"
   ]
  },
  {
   "cell_type": "code",
   "execution_count": null,
   "metadata": {},
   "outputs": [],
   "source": [
    "#Hoang\n",
    "# Dữ liệu ban đầu\n",
    "data = df['bmi']\n",
    "\n",
    "# Chuyển đổi dữ liệu thành DataFrame\n",
    "dff = pd.DataFrame(data, columns=['bmi'])\n",
    "dff"
   ]
  },
  {
   "cell_type": "code",
   "execution_count": null,
   "metadata": {},
   "outputs": [],
   "source": [
    "#Hoang\n",
    "import numpy as np\n",
    "conditions = [\n",
    "    (dff['bmi'] < 18.5),\n",
    "    (dff['bmi'] >= 18.5) & (dff['bmi'] <= 25),\n",
    "    (dff['bmi'] > 25)\n",
    "]\n",
    "\n",
    "# Các giá trị tương ứng cho mỗi điều kiện\n",
    "df['underweight'] = np.where(dff['bmi'] < 18.5, 1, 0)\n",
    "df['normal'] = np.where((dff['bmi'] >= 18.5) & (dff['bmi'] <= 25), 1, 0)\n",
    "df['overweight'] = np.where(dff['bmi'] > 25, 1, 0)\n",
    "\n",
    "# Hiển thị DataFrame với dữ liệu đã chuẩn hóa\n",
    "df"
   ]
  },
  {
   "cell_type": "code",
   "execution_count": null,
   "metadata": {},
   "outputs": [],
   "source": [
    "#Binh\n",
    "df.dropna(how='all', inplace=True)\n",
    "df.head()"
   ]
  },
  {
   "cell_type": "code",
   "execution_count": null,
   "metadata": {},
   "outputs": [],
   "source": [
    "#Binh\n",
    "df = df[df['smoking_status'] != 'Unknown']\n",
    "df"
   ]
  },
  {
   "cell_type": "code",
   "execution_count": null,
   "metadata": {},
   "outputs": [],
   "source": [
    "#Binh\n",
    "#sử dụng labelEncoder\n",
    "from sklearn.preprocessing import LabelEncoder\n",
    "le = LabelEncoder()\n",
    "df['smoking_status'] = le.fit_transform(df['smoking_status'])\n",
    "#fit_tranform tự động gán giá trị cho smoking_status\n",
    "df"
   ]
  }
 ],
 "metadata": {
  "kernelspec": {
   "display_name": "Python 3",
   "language": "python",
   "name": "python3"
  },
  "language_info": {
   "codemirror_mode": {
    "name": "ipython",
    "version": 3
   },
   "file_extension": ".py",
   "mimetype": "text/x-python",
   "name": "python",
   "nbconvert_exporter": "python",
   "pygments_lexer": "ipython3",
   "version": "3.12.3"
  }
 },
 "nbformat": 4,
 "nbformat_minor": 2
}
