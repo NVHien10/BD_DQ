{
 "cells": [
  {
   "cell_type": "code",
   "execution_count": 2,
   "metadata": {},
   "outputs": [
    {
     "name": "stdout",
     "output_type": "stream",
     "text": [
      "         id  gender   age  hypertension  heart_disease ever_married  \\\n",
      "0      9046    Male  67.0             0              1          Yes   \n",
      "1     51676  Female  61.0             0              0          Yes   \n",
      "2     31112    Male  80.0             0              1          Yes   \n",
      "3     60182  Female  49.0             0              0          Yes   \n",
      "4      1665  Female  79.0             1              0          Yes   \n",
      "...     ...     ...   ...           ...            ...          ...   \n",
      "5105  18234  Female  80.0             1              0          Yes   \n",
      "5106  44873  Female  81.0             0              0          Yes   \n",
      "5107  19723  Female  35.0             0              0          Yes   \n",
      "5108  37544    Male  51.0             0              0          Yes   \n",
      "5109  44679  Female  44.0             0              0          Yes   \n",
      "\n",
      "          work_type Residence_type  avg_glucose_level   bmi   smoking_status  \\\n",
      "0           Private          Urban             228.69  36.6  formerly smoked   \n",
      "1     Self-employed          Rural             202.21   NaN     never smoked   \n",
      "2           Private          Rural             105.92  32.5     never smoked   \n",
      "3           Private          Urban             171.23  34.4           smokes   \n",
      "4     Self-employed          Rural             174.12  24.0     never smoked   \n",
      "...             ...            ...                ...   ...              ...   \n",
      "5105        Private          Urban              83.75   NaN     never smoked   \n",
      "5106  Self-employed          Urban             125.20  40.0     never smoked   \n",
      "5107  Self-employed          Rural              82.99  30.6     never smoked   \n",
      "5108        Private          Rural             166.29  25.6  formerly smoked   \n",
      "5109       Govt_job          Urban              85.28  26.2          Unknown   \n",
      "\n",
      "      stroke  \n",
      "0          1  \n",
      "1          1  \n",
      "2          1  \n",
      "3          1  \n",
      "4          1  \n",
      "...      ...  \n",
      "5105       0  \n",
      "5106       0  \n",
      "5107       0  \n",
      "5108       0  \n",
      "5109       0  \n",
      "\n",
      "[5110 rows x 12 columns]\n"
     ]
    }
   ],
   "source": [
    "#hien\n",
    "# Đọc dữ liệu từ tập tin CSV\n",
    "import pandas as pd\n",
    "\n",
    "# Đường dẫn đến tập tin CSV\n",
    "file_path = 'C:\\\\Users\\\\ACER\\\\Desktop\\\\Samsung\\\\th\\\\BD_DQ\\\\data_dotquy.csv'\n",
    "# Đọc dữ liệu từ CSV vào DataFrame\n",
    "df = pd.read_csv(file_path)\n",
    "# Hiển thị DataFrame trong VS Code\n",
    "print(df)"
   ]
  },
  {
   "cell_type": "markdown",
   "metadata": {},
   "source": [
    "LÀM SẠCH và CHUẨN HÓA DL\n",
    "- 1 giới tính: loại other\n",
    "- 2 tuổi: Loại số thực ( vd: 0.1 , 1.56) rồi dùng kỹ thuật Age Grouping\n",
    "- 3 Đã kết hôn: chuyển về 0 và một\n",
    "- 4 kiểu làm việc(work_type)\n",
    "    + kỹ thuật Hashing Encoding\n",
    "    + kỹ thuật One-Hot Encoding\n",
    "- 5 vùng sống: chuyển về 0 và một\n",
    "- 6 BMI  \n",
    "    + Loại bỏ các hàng hoặc cột có N/A rồi dùng kỹ thuật Binary Encoding\n",
    "    + dùng kỹ thuật Simple Imputation rồi dùng kỹ thuật tiếp Min-Max Scaling\n",
    "- 7 smoking_status\n",
    "  + Loại bỏ các hàng hoặc cột có Unknown rồi dùng kỹ thuật tiếp Min-Max Scaling\n",
    "  + kỹ thuật Frequency Encoding\n",
    "- 8 avg_glucose_level (mg/dL)\n",
    "    DÙNG KỸ THUẬT: Min-Max Scaling\n",
    "  ******ĐIỀU KIỆN LÀ******\n",
    "    Người bình thường:\n",
    "     < 140\n",
    "    Người Bị tiểu đường:\n",
    "      >=140\n",
    "      "
   ]
  },
  {
   "cell_type": "code",
   "execution_count": null,
   "metadata": {},
   "outputs": [],
   "source": [
    "#hien\n",
    "#Kiem tra trung lap\n",
    "duplicated_rows = df[df.duplicated(subset='id')]\n",
    "print(\"So luong du lieu trung lap la:\" , len(duplicated_rows))\n",
    "\n",
    "df = df.dropna()\n",
    "df = df.applymap(lambda x: x.replace(\"\\n\",\" \") if isinstance(x, str) else x )"
   ]
  },
  {
   "cell_type": "code",
   "execution_count": null,
   "metadata": {},
   "outputs": [],
   "source": [
    "#hien\n",
    "# Xóa cột mã định danh\n",
    "df  = df.drop(columns=['id'])\n",
    "df.info()\n",
    "df"
   ]
  },
  {
   "cell_type": "code",
   "execution_count": null,
   "metadata": {},
   "outputs": [],
   "source": [
    "#hien\n",
    "# khong tieu\n",
    "def glucose_normal(value):\n",
    "    if value < 140:\n",
    "        return value\n",
    "    else:\n",
    "        return 0\n",
    "normal_data = [glucose_normal(x) for x in df['avg_glucose_level']]\n",
    "#print(normal_data)\n",
    "\n",
    "# Calculate min and max values\n",
    "X_min = min(normal_data)\n",
    "X_max = max(normal_data)\n",
    "\n",
    "# Apply Min-Max Scaling\n",
    "scaled_data = [(x - X_min) / (X_max - X_min) for x in normal_data]\n",
    "scaled_data\n",
    "df['glucose_normal'] = scaled_data"
   ]
  },
  {
   "cell_type": "code",
   "execution_count": null,
   "metadata": {},
   "outputs": [],
   "source": [
    "#hien\n",
    "# tieu duong\n",
    "def glucose_classify(value):\n",
    "    if value >= 140:\n",
    "        return value\n",
    "    else:\n",
    "        return 0\n",
    "\n",
    "classified_data = [glucose_classify(x) for x in df['avg_glucose_level']]\n",
    "#classified_data\n",
    "\n",
    "# Calculate min and max values\n",
    "X_min = min(classified_data)\n",
    "X_max = max(classified_data)\n",
    "\n",
    "# Apply Min-Max Scaling\n",
    "scaled_data = [(x - X_min) / (X_max - X_min) for x in classified_data]\n",
    "scaled_data\n",
    "df['glucose_classify'] = scaled_data\n"
   ]
  },
  {
   "cell_type": "code",
   "execution_count": null,
   "metadata": {},
   "outputs": [],
   "source": [
    "#hien\n",
    "# chuẩn hóa bằng Min-Max Scaling\n",
    "glucose_values = df['avg_glucose_level']\n",
    "\n",
    "# Calculate min and max values\n",
    "X_min = min(df['avg_glucose_level'])\n",
    "X_max = max(df['avg_glucose_level'])\n",
    "\n",
    "# Apply Min-Max Scaling\n",
    "scaled_data = [(x - X_min) / (X_max - X_min) for x in df['avg_glucose_level']]\n",
    "\n",
    "# Print the original and scaled data\n",
    "#print(scaled_data)\n",
    "#df['glucose_normalized_data'] = scaled_data\n",
    "\n",
    "df['avg_glucose_level'] = scaled_data\n",
    "df\n"
   ]
  },
  {
   "cell_type": "code",
   "execution_count": null,
   "metadata": {},
   "outputs": [],
   "source": [
    "#hien\n",
    "# LOAI GIA TRI TUOI LÀ SO THỤC KHONG NGUYEN\n",
    "df = df[~df['age'].apply(lambda x: isinstance(x, float) and not x.is_integer())]\n",
    "df"
   ]
  },
  {
   "cell_type": "markdown",
   "metadata": {},
   "source": [
    "hien"
   ]
  }
 ],
 "metadata": {
  "kernelspec": {
   "display_name": "Python 3",
   "language": "python",
   "name": "python3"
  },
  "language_info": {
   "codemirror_mode": {
    "name": "ipython",
    "version": 3
   },
   "file_extension": ".py",
   "mimetype": "text/x-python",
   "name": "python",
   "nbconvert_exporter": "python",
   "pygments_lexer": "ipython3",
   "version": "3.12.3"
  }
 },
 "nbformat": 4,
 "nbformat_minor": 2
}
