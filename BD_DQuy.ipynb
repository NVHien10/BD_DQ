{
 "cells": [
  {
   "cell_type": "code",
   "execution_count": null,
   "metadata": {},
   "outputs": [],
   "source": [
    "# Đọc dữ liệu từ tập tin CSV\n",
    "import pandas as pd\n",
    "\n",
    "# Đường dẫn đến tập tin CSV\n",
    "file_path = 'C:\\\\Users\\\\Admin\\\\Desktop\\\\BD_DQ\\\\data_dotquy.csv'\n",
    "# Đọc dữ liệu từ CSV vào DataFrame\n",
    "df = pd.read_csv(file_path)\n",
    "# Hiển thị DataFrame trong VS Code\n",
    "print(df)"
   ]
  },
  {
   "cell_type": "code",
   "execution_count": null,
   "metadata": {},
   "outputs": [],
   "source": [
    "print(df)"
   ]
  },
  {
   "cell_type": "code",
   "execution_count": null,
   "metadata": {},
   "outputs": [],
   "source": [
    "\n",
    "# Kiểm tra xem tuổi có phải là số nguyên hay không\n",
    "df['Is_Whole_Number'] = df['age'].apply(lambda x: x.is_integer())\n",
    "\n",
    "# Lọc các hàng mà tuổi không phải là số thực (chỉ giữ lại số nguyên)\n",
    "df = df[df['Is_Whole_Number']]\n",
    "\n",
    "# Xóa cột tạm thời 'Is_Whole_Number'\n",
    "df = df.drop(columns=['Is_Whole_Number'])\n",
    "\n",
    "print(df)"
   ]
  },
  {
   "cell_type": "code",
   "execution_count": null,
   "metadata": {},
   "outputs": [],
   "source": [
    "# Định nghĩa các khoảng tuổi và các nhãn cho các nhóm tuổi\n",
    "bins = [0, 18, 35, 60, 100]\n",
    "labels = ['0', '1', '2', '3']\n",
    "\n",
    "# Chia cột \"Age\" thành các nhóm tuổi\n",
    "df['Age Group'] = pd.cut(df['age'], bins=bins, labels=labels, right=False)\n",
    "\n",
    "df"
   ]
  },
  {
   "cell_type": "code",
   "execution_count": null,
   "metadata": {},
   "outputs": [],
   "source": [
    "# Chuyển đổi các nhóm tuổi thành các giá trị số\n",
    "df['Age Group'] = df['Age Group'].cat.codes.astype(float)\n",
    "df"
   ]
  }
 ],
 "metadata": {
  "kernelspec": {
   "display_name": "Python 3",
   "language": "python",
   "name": "python3"
  },
  "language_info": {
   "codemirror_mode": {
    "name": "ipython",
    "version": 3
   },
   "file_extension": ".py",
   "mimetype": "text/x-python",
   "name": "python",
   "nbconvert_exporter": "python",
   "pygments_lexer": "ipython3",
   "version": "3.12.4"
  }
 },
 "nbformat": 4,
 "nbformat_minor": 2
}
