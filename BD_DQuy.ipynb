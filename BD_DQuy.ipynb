{
 "cells": [
  {
   "cell_type": "code",
   "execution_count": null,
   "metadata": {},
   "outputs": [],
   "source": [
    "# Đọc dữ liệu từ tập tin CSV\n",
    "import pandas as pd\n",
    "\n",
    "# Đường dẫn đến tập tin CSV\n",
    "file_path = 'C:\\\\Users\\\\Dell\\\\OneDrive\\\\Desktop\\\\BD_DQ\\\\data_dotquy.csv'\n",
    "# Đọc dữ liệu từ CSV vào DataFrame\n",
    "df = pd.read_csv(file_path)\n",
    "# Hiển thị DataFrame trong VS Code\n",
    "print(df)"
   ]
  },
  {
   "cell_type": "code",
   "execution_count": null,
   "metadata": {},
   "outputs": [],
   "source": [
    "\n",
    "print(df)\n",
    "print(df)\n",
    "print(df)\n",
    "print(df)\n",
    "print(df)"
   ]
  }
 ],
 "metadata": {
  "kernelspec": {
   "display_name": "Python 3",
   "language": "python",
   "name": "python3"
  },
  "language_info": {
   "codemirror_mode": {
    "name": "ipython",
    "version": 3
   },
   "file_extension": ".py",
   "mimetype": "text/x-python",
   "name": "python",
   "nbconvert_exporter": "python",
   "pygments_lexer": "ipython3",
   "version": "3.12.3"
  }
 },
 "nbformat": 4,
 "nbformat_minor": 2
}
