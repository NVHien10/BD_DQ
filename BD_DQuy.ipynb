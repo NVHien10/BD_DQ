{
 "cells": [
  {
   "cell_type": "code",
   "execution_count": null,
   "metadata": {},
   "outputs": [],
   "source": [
    "# Đọc dữ liệu từ tập tin CSV\n",
    "import pandas as pd\n",
    "\n",
    "# Đường dẫn đến tập tin CSV\n",
    "file_path = 'C:\\\\Users\\\\ACER\\\\Desktop\\\\BD_DQ\\\\data_dotquy.csv'\n",
    "# Đọc dữ liệu từ CSV vào DataFrame\n",
    "df = pd.read_csv(file_path)\n",
    "# Hiển thị DataFrame trong VS Code\n",
    "print(df)\n",
    "\n",
    "bins = [0, 18, 35, 60, 100]\n",
    "labels = ['Trẻ em', 'Thanh niên', 'Trung niên', 'Người già']\n",
    "df['nhóm tuổi'] = pd.cut(df['age'], bins=bins, labels=labels, right=False)\n",
    "df['ever_married'] = df['ever_married'].map({'Yes': 1, 'No': 0})\n",
    "df"
   ]
  },
  {
   "cell_type": "code",
   "execution_count": null,
   "metadata": {},
   "outputs": [],
   "source": [
    "\n",
    "# khong tieu\n",
    "def glucose_normal(value):\n",
    "    if value < 140:\n",
    "        return value\n",
    "    else:\n",
    "        return 0\n",
    "normal_data = [glucose_normal(x) for x in df['avg_glucose_level']]\n",
    "#print(normal_data)\n",
    "\n",
    "# Calculate min and max values\n",
    "X_min = min(normal_data)\n",
    "X_max = max(normal_data)\n",
    "\n",
    "# Apply Min-Max Scaling\n",
    "scaled_data = [(x - X_min) / (X_max - X_min) for x in normal_data]\n",
    "scaled_data\n",
    "df['glucose_normal'] = scaled_data"
   ]
  },
  {
   "cell_type": "code",
   "execution_count": null,
   "metadata": {},
   "outputs": [],
   "source": [
    "\n",
    "# tieu duong\n",
    "def glucose_classify(value):\n",
    "    if value >= 140:\n",
    "        return value\n",
    "    else:\n",
    "        return 0\n",
    "\n",
    "classified_data = [glucose_classify(x) for x in df['avg_glucose_level']]\n",
    "#classified_data\n",
    "\n",
    "# Calculate min and max values\n",
    "X_min = min(classified_data)\n",
    "X_max = max(classified_data)\n",
    "\n",
    "# Apply Min-Max Scaling\n",
    "scaled_data = [(x - X_min) / (X_max - X_min) for x in classified_data]\n",
    "scaled_data\n",
    "df['glucose_classify'] = scaled_data\n"
   ]
  },
  {
   "cell_type": "code",
   "execution_count": null,
   "metadata": {},
   "outputs": [],
   "source": [
    "# chuẩn hóa bằng Min-Max Scaling\n",
    "glucose_values = df['avg_glucose_level']\n",
    "\n",
    "# Calculate min and max values\n",
    "X_min = min(df['avg_glucose_level'])\n",
    "X_max = max(df['avg_glucose_level'])\n",
    "\n",
    "# Apply Min-Max Scaling\n",
    "scaled_data = [(x - X_min) / (X_max - X_min) for x in df['avg_glucose_level']]\n",
    "\n",
    "# Print the original and scaled data\n",
    "#print(scaled_data)\n",
    "#df['glucose_normalized_data'] = scaled_data\n",
    "\n",
    "df['avg_glucose_level'] = scaled_data\n",
    "df\n",
    "print(\"Hien\")"
   ]
  }
 ],
 "metadata": {
  "kernelspec": {
   "display_name": "Python 3",
   "language": "python",
   "name": "python3"
  },
  "language_info": {
   "codemirror_mode": {
    "name": "ipython",
    "version": 3
   },
   "file_extension": ".py",
   "mimetype": "text/x-python",
   "name": "python",
   "nbconvert_exporter": "python",
   "pygments_lexer": "ipython3",
   "version": "3.12.3"
  }
 },
 "nbformat": 4,
 "nbformat_minor": 2
}
