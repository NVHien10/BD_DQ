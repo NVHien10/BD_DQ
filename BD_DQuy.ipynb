{
 "cells": [
  {
   "cell_type": "code",
   "execution_count": null,
   "metadata": {},
   "outputs": [],
   "source": [
    "# Đọc dữ liệu từ tập tin CSV\n",
    "import pandas as pd\n",
    "\n",
    "# Đường dẫn đến tập tin CSV\n",
    "file_path = 'C:\\\\Users\\\\Dell\\\\OneDrive\\\\Desktop\\\\BD_DQ\\\\data_dotquy.csv'\n",
    "# Đọc dữ liệu từ CSV vào DataFrame\n",
    "df = pd.read_csv(file_path)\n",
    "# Hiển thị DataFrame trong VS Code\n",
    "print(df)"
   ]
  },
  {
   "cell_type": "code",
   "execution_count": null,
   "metadata": {},
   "outputs": [],
   "source": [
    "print(df)"
   ]
  },
  {
   "cell_type": "code",
   "execution_count": null,
   "metadata": {},
   "outputs": [],
   "source": [
    "print(\"Chau\")"
   ]
  },
  {
   "cell_type": "markdown",
   "metadata": {},
   "source": [
    "LÀM SẠCH và CHUẨN HÓA DL\n",
    "- 1 giới tính: loại other\n",
    "- 2 tuổi: Loại số thực ( vd: 0.1 , 1.56) rồi dùng kỹ thuật Age Grouping\n",
    "- 3 Đã kết hôn: chuyển về 0 và một\n",
    "- 4 kiểu làm việc(work_type)\n",
    "    + kỹ thuật Hashing Encoding\n",
    "    + kỹ thuật One-Hot Encoding\n",
    "- 5 vùng sống: chuyển về 0 và một\n",
    "- 6 BMI  \n",
    "    + Loại bỏ các hàng hoặc cột có N/A rồi dùng kỹ thuật Binary Encoding\n",
    "    + dùng kỹ thuật Simple Imputation rồi dùng kỹ thuật tiếp Min-Max Scaling\n",
    "- 7 smoking_status\n",
    "  + Loại bỏ các hàng hoặc cột có Unknown rồi dùng kỹ thuật tiếp Min-Max Scaling\n",
    "  + kỹ thuật Frequency Encoding\n",
    "- 8 avg_glucose_level (mg/dL)\n",
    "    DÙNG KỸ THUẬT: Min-Max Scaling\n",
    "  ******ĐIỀU KIỆN LÀ******\n",
    "    Người bình thường:\n",
    "     < 140\n",
    "    Người Bị tiểu đường:\n",
    "      >=140\n",
    "      "
   ]
  },
  {
   "cell_type": "code",
   "execution_count": null,
   "metadata": {},
   "outputs": [],
   "source": [
    "#Kiem tra trung lap\n",
    "duplicated_rows = df[df.duplicated(subset='id')]\n",
    "print(\"So luong du lieu trung lap la:\" , len(duplicated_rows))\n",
    "\n",
    "df = df.dropna()\n",
    "df = df.applymap(lambda x: x.replace(\"\\n\",\" \") if isinstance(x, str) else x )"
   ]
  },
  {
   "cell_type": "code",
   "execution_count": null,
   "metadata": {},
   "outputs": [],
   "source": [
    "# Xóa cột mã định danh\n",
    "df  = df.drop(columns=['id'])\n",
    "df.info()\n",
    "df"
   ]
  },
  {
   "cell_type": "code",
   "execution_count": null,
   "metadata": {},
   "outputs": [],
   "source": [
    "df"
   ]
  },
  {
   "cell_type": "code",
   "execution_count": null,
   "metadata": {},
   "outputs": [],
   "source": [
    "\n",
    "# khong tieu\n",
    "def glucose_normal(value):\n",
    "    if value < 140:\n",
    "        return value\n",
    "    else:\n",
    "        return 0\n",
    "normal_data = [glucose_normal(x) for x in df['avg_glucose_level']]\n",
    "#print(normal_data)\n",
    "\n",
    "# Calculate min and max values\n",
    "X_min = min(normal_data)\n",
    "X_max = max(normal_data)\n",
    "\n",
    "# Apply Min-Max Scaling\n",
    "scaled_data = [(x - X_min) / (X_max - X_min) for x in normal_data]\n",
    "scaled_data\n",
    "df['glucose_normal'] = scaled_data"
   ]
  },
  {
   "cell_type": "code",
   "execution_count": null,
   "metadata": {},
   "outputs": [],
   "source": [
    "\n",
    "# tieu duong\n",
    "def glucose_classify(value):\n",
    "    if value >= 140:\n",
    "        return value\n",
    "    else:\n",
    "        return 0\n",
    "\n",
    "classified_data = [glucose_classify(x) for x in df['avg_glucose_level']]\n",
    "#classified_data\n",
    "\n",
    "# Calculate min and max values\n",
    "X_min = min(classified_data)\n",
    "X_max = max(classified_data)\n",
    "\n",
    "# Apply Min-Max Scaling\n",
    "scaled_data = [(x - X_min) / (X_max - X_min) for x in classified_data]\n",
    "scaled_data\n",
    "df['glucose_classify'] = scaled_data\n"
   ]
  },
  {
   "cell_type": "code",
   "execution_count": null,
   "metadata": {},
   "outputs": [],
   "source": [
    "# chuẩn hóa bằng Min-Max Scaling\n",
    "glucose_values = df['avg_glucose_level']\n",
    "\n",
    "# Calculate min and max values\n",
    "X_min = min(df['avg_glucose_level'])\n",
    "X_max = max(df['avg_glucose_level'])\n",
    "\n",
    "# Apply Min-Max Scaling\n",
    "scaled_data = [(x - X_min) / (X_max - X_min) for x in df['avg_glucose_level']]\n",
    "\n",
    "# Print the original and scaled data\n",
    "#print(scaled_data)\n",
    "#df['glucose_normalized_data'] = scaled_data\n",
    "\n",
    "df['avg_glucose_level'] = scaled_data\n",
    "df\n"
   ]
  },
  {
   "cell_type": "code",
   "execution_count": null,
   "metadata": {},
   "outputs": [],
   "source": [
    "# LOAI GIA TRI TUOI LÀ SO THỤC KHONG NGUYEN\n",
    "df = df[~df['age'].apply(lambda x: isinstance(x, float) and not x.is_integer())]\n",
    "df"
   ]
  },
  {
   "cell_type": "code",
   "execution_count": null,
   "metadata": {},
   "outputs": [],
   "source": [
    "bins = [0, 18, 35, 60, 100]\n",
    "labels = ['Trẻ em', 'Thanh niên', 'Trung niên', 'Người già']\n",
    "df['nhóm tuổi'] = pd.cut(df['age'], bins=bins, labels=labels, right=False)\n",
    "df"
   ]
  },
  {
   "cell_type": "code",
   "execution_count": null,
   "metadata": {},
   "outputs": [],
   "source": [
    "df['ever_married'] = df['ever_married'].map({'Yes': 1, 'No': 0})\n",
    "df"
   ]
  },
  {
   "cell_type": "code",
   "execution_count": null,
   "metadata": {},
   "outputs": [],
   "source": [
    "print(\"hien\")"
   ]
  }
 ],
 "metadata": {
  "kernelspec": {
   "display_name": "Python 3",
   "language": "python",
   "name": "python3"
  },
  "language_info": {
   "codemirror_mode": {
    "name": "ipython",
    "version": 3
   },
   "file_extension": ".py",
   "mimetype": "text/x-python",
   "name": "python",
   "nbconvert_exporter": "python",
   "pygments_lexer": "ipython3",
   "version": "3.12.3"
  }
 },
 "nbformat": 4,
 "nbformat_minor": 2
}
