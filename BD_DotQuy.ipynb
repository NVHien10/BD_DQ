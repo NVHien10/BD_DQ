{
  "cells": [
    {
      "cell_type": "markdown",
      "metadata": {
        "colab_type": "text",
        "id": "view-in-github"
      },
      "source": [
        "<a href=\"https://colab.research.google.com/github/NVHien10/BD_DQ/blob/main/BD_DotQuy.ipynb\" target=\"_parent\"><img src=\"https://colab.research.google.com/assets/colab-badge.svg\" alt=\"Open In Colab\"/></a>"
      ]
    },
    {
      "cell_type": "code",
      "execution_count": 6,
      "metadata": {},
      "outputs": [
        {
          "ename": "ModuleNotFoundError",
          "evalue": "No module named 'google_auth_oauthlib'",
          "output_type": "error",
          "traceback": [
            "\u001b[1;31m---------------------------------------------------------------------------\u001b[0m",
            "\u001b[1;31mModuleNotFoundError\u001b[0m                       Traceback (most recent call last)",
            "Cell \u001b[1;32mIn[6], line 1\u001b[0m\n\u001b[1;32m----> 1\u001b[0m \u001b[38;5;28;01mfrom\u001b[39;00m \u001b[38;5;21;01mgoogle_auth_oauthlib\u001b[39;00m\u001b[38;5;21;01m.\u001b[39;00m\u001b[38;5;21;01mflow\u001b[39;00m \u001b[38;5;28;01mimport\u001b[39;00m InstalledAppFlow\n\u001b[0;32m      2\u001b[0m \u001b[38;5;28;01mfrom\u001b[39;00m \u001b[38;5;21;01mgoogle\u001b[39;00m\u001b[38;5;21;01m.\u001b[39;00m\u001b[38;5;21;01mauth\u001b[39;00m\u001b[38;5;21;01m.\u001b[39;00m\u001b[38;5;21;01mtransport\u001b[39;00m\u001b[38;5;21;01m.\u001b[39;00m\u001b[38;5;21;01mrequests\u001b[39;00m \u001b[38;5;28;01mimport\u001b[39;00m Request\n\u001b[0;32m      3\u001b[0m \u001b[38;5;28;01mfrom\u001b[39;00m \u001b[38;5;21;01mgoogle\u001b[39;00m\u001b[38;5;21;01m.\u001b[39;00m\u001b[38;5;21;01moauth2\u001b[39;00m\u001b[38;5;21;01m.\u001b[39;00m\u001b[38;5;21;01mcredentials\u001b[39;00m \u001b[38;5;28;01mimport\u001b[39;00m Credentials\n",
            "\u001b[1;31mModuleNotFoundError\u001b[0m: No module named 'google_auth_oauthlib'"
          ]
        }
      ],
      "source": [
        "from google_auth_oauthlib.flow import InstalledAppFlow\n",
        "from google.auth.transport.requests import Request\n",
        "from google.oauth2.credentials import Credentials\n",
        "\n",
        "# If modifying these scopes, delete the file token.json.\n",
        "SCOPES = ['https://www.googleapis.com/auth/drive']\n",
        "\n",
        "def main():\n",
        "    creds = None\n",
        "    # The file token.json stores the user's access and refresh tokens, and is\n",
        "    # created automatically when the authorization flow completes for the first\n",
        "    # time.\n",
        "    if os.path.exists('token.json'):\n",
        "        creds = Credentials.from_authorized_user_file('token.json')\n",
        "    # If there are no (valid) credentials available, let the user log in.\n",
        "    if not creds or not creds.valid:\n",
        "        if creds and creds.expired and creds.refresh_token:\n",
        "            creds.refresh(Request())\n",
        "        else:\n",
        "            flow = InstalledAppFlow.from_client_secrets_file(\n",
        "                'credentials.json', SCOPES)\n",
        "            creds = flow.run_local_server(port=0)\n",
        "        # Save the credentials for the next run\n",
        "        with open('token.json', 'w') as token:\n",
        "            token.write(creds.to_json())\n",
        "\n",
        "    # Mount Google Drive\n",
        "    from google.colab import drive\n",
        "    drive.mount('/content/drive')\n",
        "\n",
        "if __name__ == '__main__':\n",
        "    main()\n"
      ]
    },
    {
      "cell_type": "code",
      "execution_count": null,
      "metadata": {
        "colab": {
          "base_uri": "https://localhost:8080/"
        },
        "id": "utRwEJ9Bf-gC",
        "outputId": "d8ed5580-6884-452d-b5f5-a03a720bd197"
      },
      "outputs": [],
      "source": [
        "from google.colab import drive\n",
        "drive.mount('/content/drive')"
      ]
    },
    {
      "cell_type": "code",
      "execution_count": null,
      "metadata": {},
      "outputs": [],
      "source": []
    },
    {
      "cell_type": "code",
      "execution_count": null,
      "metadata": {
        "colab": {
          "base_uri": "https://localhost:8080/",
          "height": 513
        },
        "collapsed": true,
        "id": "Q7SU8GD7gElT",
        "outputId": "db317e5a-c494-4436-ed71-8663325b0472"
      },
      "outputs": [],
      "source": [
        "# Đọc dữ liệu từ tập tin CSV\n",
        "import pandas as pd\n",
        "df = pd.read_csv('/content/drive/MyDrive/BIGDATA/data_dotquy.csv')\n",
        "df"
      ]
    },
    {
      "cell_type": "markdown",
      "metadata": {
        "id": "vsb87RiWgIoB"
      },
      "source": [
        "LÀM SẠCH và CHUẨN HÓA DL\n",
        "- 1 giới tính: loại other\n",
        "- 2 tuổi: Loại số thực ( vd: 0.1 , 1.56) rồi dùng kỹ thuật Age Grouping\n",
        "- 3 Đã kết hôn: chuyển về 0 và một\n",
        "- 4 kiểu làm việc(work_type)\n",
        "    + kỹ thuật Hashing Encoding\n",
        "    + kỹ thuật One-Hot Encoding\n",
        "- 5 vùng sống: chuyển về 0 và một\n",
        "- 6 BMI  \n",
        "    + Loại bỏ các hàng hoặc cột có N/A rồi dùng kỹ thuật Binary Encoding\n",
        "    + dùng kỹ thuật Simple Imputation rồi dùng kỹ thuật tiếp Min-Max Scaling\n",
        "- 7 smoking_status\n",
        "  + Loại bỏ các hàng hoặc cột có Unknown rồi dùng kỹ thuật tiếp Min-Max Scaling\n",
        "  + kỹ thuật Frequency Encoding\n",
        "- 8 avg_glucose_level (mg/dL)\n",
        "    DÙNG KỸ THUẬT: Min-Max Scaling\n",
        "  ******ĐIỀU KIỆN LÀ******\n",
        "    Người bình thường:\n",
        "     < 140\n",
        "    Người Bị tiểu đường:\n",
        "      >=140\n",
        "      "
      ]
    },
    {
      "cell_type": "code",
      "execution_count": null,
      "metadata": {
        "id": "4vbVymdagKMu"
      },
      "outputs": [],
      "source": [
        "#Kiem tra trung lap\n",
        "duplicated_rows = df[df.duplicated(subset='id')]\n",
        "print(\"So luong du lieu trung lap la:\" , len(duplicated_rows))\n",
        "\n",
        "df = df.dropna()\n",
        "df = df.applymap(lambda x: x.replace(\"\\n\",\" \") if isinstance(x, str) else x )"
      ]
    },
    {
      "cell_type": "code",
      "execution_count": null,
      "metadata": {
        "id": "yqkflekhgMZ-"
      },
      "outputs": [],
      "source": [
        "# Xóa cột mã định danh\n",
        "df  = df.drop(columns=['id'])\n",
        "df.info()\n",
        "df"
      ]
    },
    {
      "cell_type": "code",
      "execution_count": null,
      "metadata": {
        "id": "s3T71z9UgPW4"
      },
      "outputs": [],
      "source": [
        "\n",
        "# khong tieu\n",
        "def glucose_normal(value):\n",
        "    if value < 140:\n",
        "        return value\n",
        "    else:\n",
        "        return 0\n",
        "normal_data = [glucose_normal(x) for x in df['avg_glucose_level']]\n",
        "#print(normal_data)\n",
        "\n",
        "# Calculate min and max values\n",
        "X_min = min(normal_data)\n",
        "X_max = max(normal_data)\n",
        "\n",
        "# Apply Min-Max Scaling\n",
        "scaled_data = [(x - X_min) / (X_max - X_min) for x in normal_data]\n",
        "scaled_data\n",
        "df['glucose_normal'] = scaled_data"
      ]
    },
    {
      "cell_type": "code",
      "execution_count": null,
      "metadata": {
        "id": "IXDLrCWXgRNs"
      },
      "outputs": [],
      "source": [
        "\n",
        "# tieu duong\n",
        "def glucose_classify(value):\n",
        "    if value >= 140:\n",
        "        return value\n",
        "    else:\n",
        "        return 0\n",
        "\n",
        "classified_data = [glucose_classify(x) for x in df['avg_glucose_level']]\n",
        "#classified_data\n",
        "\n",
        "# Calculate min and max values\n",
        "X_min = min(classified_data)\n",
        "X_max = max(classified_data)\n",
        "\n",
        "# Apply Min-Max Scaling\n",
        "scaled_data = [(x - X_min) / (X_max - X_min) for x in classified_data]\n",
        "scaled_data\n",
        "df['glucose_classify'] = scaled_data\n"
      ]
    },
    {
      "cell_type": "code",
      "execution_count": null,
      "metadata": {
        "id": "FtpDQnlHgUlO"
      },
      "outputs": [],
      "source": [
        "# chuẩn hóa bằng Min-Max Scaling\n",
        "glucose_values = df['avg_glucose_level']\n",
        "\n",
        "# Calculate min and max values\n",
        "X_min = min(df['avg_glucose_level'])\n",
        "X_max = max(df['avg_glucose_level'])\n",
        "\n",
        "# Apply Min-Max Scaling\n",
        "scaled_data = [(x - X_min) / (X_max - X_min) for x in df['avg_glucose_level']]\n",
        "\n",
        "# Print the original and scaled data\n",
        "#print(scaled_data)\n",
        "#df['glucose_normalized_data'] = scaled_data\n",
        "\n",
        "df['avg_glucose_level'] = scaled_data\n",
        "df\n"
      ]
    },
    {
      "cell_type": "code",
      "execution_count": null,
      "metadata": {
        "id": "x_qVLKrjgXJs"
      },
      "outputs": [],
      "source": [
        "# LOAI GIA TRI TUOI LÀ SO THỤC KHONG NGUYEN\n",
        "df = df[~df['age'].apply(lambda x: isinstance(x, float) and not x.is_integer())]\n",
        "df"
      ]
    },
    {
      "cell_type": "code",
      "execution_count": null,
      "metadata": {
        "id": "bddUDkclgYpM"
      },
      "outputs": [],
      "source": [
        "bins = [0, 18, 35, 60, 100]\n",
        "labels = ['Trẻ em', 'Thanh niên', 'Trung niên', 'Người già']\n",
        "df['nhóm tuổi'] = pd.cut(df['age'], bins=bins, labels=labels, right=False)\n",
        "df"
      ]
    },
    {
      "cell_type": "code",
      "execution_count": null,
      "metadata": {
        "id": "qHrShigcgaGc"
      },
      "outputs": [],
      "source": [
        "df['ever_married'] = df['ever_married'].map({'Yes': 1, 'No': 0})\n",
        "df"
      ]
    },
    {
      "cell_type": "code",
      "execution_count": null,
      "metadata": {
        "id": "C28bt292gcGB"
      },
      "outputs": [],
      "source": [
        "#phan nhom\n",
        "df.info()"
      ]
    },
    {
      "cell_type": "code",
      "execution_count": null,
      "metadata": {
        "id": "OF8aGeTFihL4"
      },
      "outputs": [],
      "source": [
        "!git config --global user.email \"hiennguyenwinh@gmail.com\"\n",
        "!git config --global user.name \"NVHien10\""
      ]
    },
    {
      "cell_type": "code",
      "execution_count": null,
      "metadata": {
        "colab": {
          "base_uri": "https://localhost:8080/"
        },
        "id": "1T4_y8-3kcDd",
        "outputId": "7c088603-d81a-44f8-d64f-c4e4657e15ff"
      },
      "outputs": [],
      "source": [
        "!git remote add origin https://github.com/NVHien10/BD_DQ.git\n"
      ]
    },
    {
      "cell_type": "code",
      "execution_count": null,
      "metadata": {
        "colab": {
          "base_uri": "https://localhost:8080/"
        },
        "id": "f8KQEUr0kq36",
        "outputId": "1de08a9c-1b4e-4595-dc24-2aef7cdb5293"
      },
      "outputs": [],
      "source": [
        "!apt-get install git -y"
      ]
    }
  ],
  "metadata": {
    "colab": {
      "authorship_tag": "ABX9TyOs8B1Nn6+qxMBNxas0gvqI",
      "include_colab_link": true,
      "provenance": []
    },
    "kernelspec": {
      "display_name": "Python 3",
      "name": "python3"
    },
    "language_info": {
      "codemirror_mode": {
        "name": "ipython",
        "version": 3
      },
      "file_extension": ".py",
      "mimetype": "text/x-python",
      "name": "python",
      "nbconvert_exporter": "python",
      "pygments_lexer": "ipython3",
      "version": "3.12.3"
    }
  },
  "nbformat": 4,
  "nbformat_minor": 0
}
